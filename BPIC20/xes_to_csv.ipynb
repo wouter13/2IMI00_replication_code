{
 "cells": [
  {
   "cell_type": "markdown",
   "metadata": {},
   "source": [
    "# read XES from BPI Challenge 2020\n",
    "### Create all prefixes including attribute next activity & prefix length"
   ]
  },
  {
   "cell_type": "code",
   "execution_count": 17,
   "metadata": {},
   "outputs": [],
   "source": [
    "import pm4py\n",
    "from pm4py.objects.log.importer.xes import importer as xes_importer\n",
    "import csv"
   ]
  },
  {
   "cell_type": "code",
   "execution_count": 18,
   "metadata": {},
   "outputs": [
    {
     "data": {
      "application/vnd.jupyter.widget-view+json": {
       "model_id": "f9be285c12e0484589af4316e6b97d8a",
       "version_major": 2,
       "version_minor": 0
      },
      "text/plain": [
       "parsing log, completed traces ::   0%|          | 0/6886 [00:00<?, ?it/s]"
      ]
     },
     "metadata": {},
     "output_type": "display_data"
    }
   ],
   "source": [
    "# Load the XES file\n",
    "raw_log = xes_importer.apply(\"RequestForPayment.xes\")\n",
    "\n",
    "# Specify the output CSV file path\n",
    "output_csv_file = \"BPIC_2020_prefixes_all.csv\""
   ]
  },
  {
   "cell_type": "code",
   "execution_count": 19,
   "metadata": {},
   "outputs": [
    {
     "name": "stderr",
     "output_type": "stream",
     "text": [
      "c:\\Users\\20182009\\Documents\\Master DSAI\\y2 q1\\2IMI00 seminar process analytics\\replicationStudy\\.venv\\lib\\site-packages\\pm4py\\utils.py:508: UserWarning: the EventLog class has been deprecated and will be removed in a future release.\n",
      "  warnings.warn(\"the EventLog class has been deprecated and will be removed in a future release.\")\n"
     ]
    }
   ],
   "source": [
    "delete_event_list = {'Request For Payment FINAL_APPROVED by BUDGET OWNER', 'Request For Payment FOR_APPROVAL by ADMINISTRATION', 'Request For Payment FOR_APPROVAL by SUPERVISOR'}\n",
    "\n",
    "log = pm4py.filter_event_attribute_values(raw_log, 'concept:name', delete_event_list, level='event', retain=False)"
   ]
  },
  {
   "cell_type": "code",
   "execution_count": 20,
   "metadata": {},
   "outputs": [],
   "source": [
    "# Get all unique attribute names from the event log\n",
    "all_attributes = set()\n",
    "for trace in log:\n",
    "    for event in trace:\n",
    "        all_attributes.update(event.keys())"
   ]
  },
  {
   "cell_type": "markdown",
   "metadata": {},
   "source": [
    "### get dictionary of all activities"
   ]
  },
  {
   "cell_type": "code",
   "execution_count": 21,
   "metadata": {},
   "outputs": [
    {
     "data": {
      "text/plain": [
       "{'Request For Payment FINAL_APPROVED by DIRECTOR': 0,\n",
       " 'Request For Payment REJECTED by PRE_APPROVER': 1,\n",
       " 'Request For Payment REJECTED by MISSING': 2,\n",
       " 'Request For Payment REJECTED by ADMINISTRATION': 3,\n",
       " 'Request For Payment APPROVED by ADMINISTRATION': 4,\n",
       " 'Request For Payment APPROVED by SUPERVISOR': 5,\n",
       " 'Request For Payment SUBMITTED by EMPLOYEE': 6,\n",
       " 'Request For Payment REJECTED by EMPLOYEE': 7,\n",
       " 'Request For Payment APPROVED by BUDGET OWNER': 8,\n",
       " 'Request For Payment APPROVED by PRE_APPROVER': 9,\n",
       " 'Request For Payment FINAL_APPROVED by SUPERVISOR': 10,\n",
       " 'Request For Payment SAVED by EMPLOYEE': 11,\n",
       " 'Request For Payment REJECTED by BUDGET OWNER': 12,\n",
       " 'Request Payment': 13,\n",
       " 'Request For Payment REJECTED by SUPERVISOR': 14,\n",
       " 'Payment Handled': 15}"
      ]
     },
     "execution_count": 21,
     "metadata": {},
     "output_type": "execute_result"
    }
   ],
   "source": [
    "all_tasks = set()\n",
    "\n",
    "# Iterate through the event log to gather all tasks and assign indices\n",
    "for trace in log:\n",
    "    for event in trace:\n",
    "        all_tasks.add(event[\"concept:name\"])\n",
    "\n",
    "# Create a dictionary to map tasks to their indices\n",
    "task_to_index = {task: index for index, task in enumerate(all_tasks)}\n",
    "task_to_index"
   ]
  },
  {
   "cell_type": "markdown",
   "metadata": {},
   "source": [
    "## make csv of prefixes and add attributes"
   ]
  },
  {
   "cell_type": "markdown",
   "metadata": {},
   "source": [
    "### version for accuracy with all prefixes"
   ]
  },
  {
   "cell_type": "code",
   "execution_count": 30,
   "metadata": {},
   "outputs": [
    {
     "name": "stdout",
     "output_type": "stream",
     "text": [
      "Event log data with all prefixes and next_activity has been exported to BPIC_2020_prefixes_all.csv\n"
     ]
    }
   ],
   "source": [
    "# Open the CSV file for writing\n",
    "with open(output_csv_file, mode='w', newline='') as csv_file:\n",
    "    # Create fieldnames with the desired column names\n",
    "    fieldnames = [\"prefix_id\", \"caseid\", \"end_timestamp\", \"task\", \"next_activity\", \"prefix_length\", \"task_index\", \"trace_start\", \"timelapsed\", \"milestone\"] + [column if column != \"org:role\" else \"role\" for column in all_attributes]\n",
    "    writer = csv.DictWriter(csv_file, fieldnames=fieldnames)\n",
    "\n",
    "    # Write the header\n",
    "    writer.writeheader()\n",
    "\n",
    "    # Iterate through the event log\n",
    "    for trace in log:\n",
    "        # Get the case name (case ID)\n",
    "        case_name = trace.attributes[\"concept:name\"]\n",
    "\n",
    "        # Remove the \"_nr\" suffix from the case name (if it exists)\n",
    "        if case_name.endswith(\"_nr\"):\n",
    "            case_name = case_name[:-3]\n",
    "\n",
    "        # Iterate through the events, creating and writing each event with the \"next_activity\" attribute\n",
    "        for i in range(len(trace) - 1):\n",
    "            prefix_trace = trace[:i + 2]\n",
    "            \n",
    "            if i < len(prefix_trace) - 1:\n",
    "                next_activity = prefix_trace[i + 1][\"concept:name\"]\n",
    "            else:\n",
    "                next_activity = None\n",
    "\n",
    "            # if the previous event has concept:name \"Request For Payment APPROVED by ADMINISTRATION\", set the milestone column to \"Request For Payment APPROVED by ADMINISTRATION\" else none\n",
    "            if prefix_trace[i][\"concept:name\"] == \"Request For Payment APPROVED by ADMINISTRATION\":\n",
    "                milestone = \"Request For Payment APPROVED by ADMINISTRATION\"\n",
    "            else:\n",
    "                milestone = None\n",
    "\n",
    "            for j, prefix_event in enumerate(prefix_trace):\n",
    "                prefix_event[\"prefix_id\"] = f\"{case_name}_{i + 1}\"\n",
    "\n",
    "                if j != len(prefix_trace) - 1:\n",
    "                    event_with_next_activity = {\n",
    "                        \"prefix_id\": prefix_event[\"prefix_id\"],\n",
    "                        \"caseid\": case_name,\n",
    "                        \"end_timestamp\": prefix_event[\"time:timestamp\"],\n",
    "                        \"task\": prefix_event[\"concept:name\"],\n",
    "                        \"next_activity\": next_activity,\n",
    "                        \"prefix_length\": i + 1,\n",
    "                        \"task_index\": task_to_index[prefix_event[\"concept:name\"]], \n",
    "                        \"trace_start\": prefix_trace[0][\"time:timestamp\"],\n",
    "                        \"milestone\": milestone,\n",
    "                        \"timelapsed\": int((prefix_event[\"time:timestamp\"] - prefix_trace[0][\"time:timestamp\"]).total_seconds() / 3600),\n",
    "                        **{column if column != \"org:role\" else \"role\": value for column, value in prefix_event.items()}\n",
    "                    }\n",
    "\n",
    "                    # Write the event to the CSV file\n",
    "                    writer.writerow(event_with_next_activity)\n",
    "\n",
    "print(f\"Event log data with all prefixes and next_activity has been exported to {output_csv_file}\")\n"
   ]
  }
 ],
 "metadata": {
  "kernelspec": {
   "display_name": ".venv",
   "language": "python",
   "name": "python3"
  },
  "language_info": {
   "codemirror_mode": {
    "name": "ipython",
    "version": 3
   },
   "file_extension": ".py",
   "mimetype": "text/x-python",
   "name": "python",
   "nbconvert_exporter": "python",
   "pygments_lexer": "ipython3",
   "version": "3.9.13"
  }
 },
 "nbformat": 4,
 "nbformat_minor": 2
}
