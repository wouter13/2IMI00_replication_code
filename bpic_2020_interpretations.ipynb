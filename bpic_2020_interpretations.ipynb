{
 "cells": [
  {
   "cell_type": "markdown",
   "metadata": {},
   "source": [
    "### BPIC 2020 - generated interpretations\n"
   ]
  },
  {
   "cell_type": "code",
   "execution_count": 1,
   "metadata": {},
   "outputs": [],
   "source": [
    "import os\n",
    "import numpy as np\n",
    "import pandas as pd\n",
    "import seaborn as sns\n",
    "import matplotlib.pyplot as plt\n",
    "\n",
    "from data.processor import *\n",
    "from data.args import *\n",
    "\n",
    "from tensorflow.keras.utils import to_categorical\n"
   ]
  },
  {
   "cell_type": "markdown",
   "metadata": {},
   "source": [
    "### Define the experiment parameters"
   ]
  },
  {
   "cell_type": "code",
   "execution_count": 2,
   "metadata": {},
   "outputs": [],
   "source": [
    "milestone = 'Request For Payment APPROVED by ADMINISTRATION' #,'All'\n",
    "experiment =  'OHE'#'Standard'#'OHE', 'No_loops'\n",
    "timelapsed = 'total' #'total', 'incremental'\n",
    "n_size = 5"
   ]
  },
  {
   "cell_type": "markdown",
   "metadata": {},
   "source": [
    "### Setting up the key parameters\n"
   ]
  },
  {
   "cell_type": "code",
   "execution_count": 3,
   "metadata": {},
   "outputs": [],
   "source": [
    "# For local environment only\n",
    "\n",
    "MY_WORKSPACE_DIR = os.path.join(os.getcwd(),'BPIC20')\n",
    "MILESTONE_DIR = os.path.join(os.path.join(MY_WORKSPACE_DIR, milestone),experiment)"
   ]
  },
  {
   "cell_type": "code",
   "execution_count": 4,
   "metadata": {},
   "outputs": [],
   "source": [
    "args = get_parameters('bpic20', MILESTONE_DIR, MY_WORKSPACE_DIR, milestone, experiment,n_size)\n"
   ]
  },
  {
   "cell_type": "markdown",
   "metadata": {},
   "source": [
    "### Data Preprocessing"
   ]
  },
  {
   "cell_type": "code",
   "execution_count": 5,
   "metadata": {},
   "outputs": [
    {
     "data": {
      "text/html": [
       "<div>\n",
       "<style scoped>\n",
       "    .dataframe tbody tr th:only-of-type {\n",
       "        vertical-align: middle;\n",
       "    }\n",
       "\n",
       "    .dataframe tbody tr th {\n",
       "        vertical-align: top;\n",
       "    }\n",
       "\n",
       "    .dataframe thead th {\n",
       "        text-align: right;\n",
       "    }\n",
       "</style>\n",
       "<table border=\"1\" class=\"dataframe\">\n",
       "  <thead>\n",
       "    <tr style=\"text-align: right;\">\n",
       "      <th></th>\n",
       "      <th>prefix_id</th>\n",
       "      <th>caseid</th>\n",
       "      <th>end_timestamp</th>\n",
       "      <th>task</th>\n",
       "      <th>next_activity</th>\n",
       "      <th>prefix_length</th>\n",
       "      <th>task_index</th>\n",
       "      <th>trace_start</th>\n",
       "      <th>timelapsed</th>\n",
       "      <th>milestone</th>\n",
       "      <th>role</th>\n",
       "      <th>time:timestamp</th>\n",
       "      <th>org:resource</th>\n",
       "      <th>concept:name</th>\n",
       "      <th>id</th>\n",
       "    </tr>\n",
       "  </thead>\n",
       "  <tbody>\n",
       "    <tr>\n",
       "      <th>0</th>\n",
       "      <td>request for payment 148214_1</td>\n",
       "      <td>request for payment 148214</td>\n",
       "      <td>2017-01-09 09:17:18+01:00</td>\n",
       "      <td>Request For Payment SUBMITTED by EMPLOYEE</td>\n",
       "      <td>Request For Payment FINAL_APPROVED by SUPERVISOR</td>\n",
       "      <td>1</td>\n",
       "      <td>6</td>\n",
       "      <td>2017-01-09 09:17:18+01:00</td>\n",
       "      <td>0</td>\n",
       "      <td>NaN</td>\n",
       "      <td>EMPLOYEE</td>\n",
       "      <td>2017-01-09 09:17:18+01:00</td>\n",
       "      <td>STAFF MEMBER</td>\n",
       "      <td>Request For Payment SUBMITTED by EMPLOYEE</td>\n",
       "      <td>st_step 148220_0</td>\n",
       "    </tr>\n",
       "    <tr>\n",
       "      <th>1</th>\n",
       "      <td>request for payment 148214_2</td>\n",
       "      <td>request for payment 148214</td>\n",
       "      <td>2017-01-09 09:17:18+01:00</td>\n",
       "      <td>Request For Payment SUBMITTED by EMPLOYEE</td>\n",
       "      <td>Request For Payment REJECTED by MISSING</td>\n",
       "      <td>2</td>\n",
       "      <td>6</td>\n",
       "      <td>2017-01-09 09:17:18+01:00</td>\n",
       "      <td>0</td>\n",
       "      <td>NaN</td>\n",
       "      <td>EMPLOYEE</td>\n",
       "      <td>2017-01-09 09:17:18+01:00</td>\n",
       "      <td>STAFF MEMBER</td>\n",
       "      <td>Request For Payment SUBMITTED by EMPLOYEE</td>\n",
       "      <td>st_step 148220_0</td>\n",
       "    </tr>\n",
       "    <tr>\n",
       "      <th>2</th>\n",
       "      <td>request for payment 148214_2</td>\n",
       "      <td>request for payment 148214</td>\n",
       "      <td>2017-01-09 09:18:00+01:00</td>\n",
       "      <td>Request For Payment FINAL_APPROVED by SUPERVISOR</td>\n",
       "      <td>Request For Payment REJECTED by MISSING</td>\n",
       "      <td>2</td>\n",
       "      <td>10</td>\n",
       "      <td>2017-01-09 09:17:18+01:00</td>\n",
       "      <td>0</td>\n",
       "      <td>NaN</td>\n",
       "      <td>SUPERVISOR</td>\n",
       "      <td>2017-01-09 09:18:00+01:00</td>\n",
       "      <td>STAFF MEMBER</td>\n",
       "      <td>Request For Payment FINAL_APPROVED by SUPERVISOR</td>\n",
       "      <td>st_step 148221_0</td>\n",
       "    </tr>\n",
       "    <tr>\n",
       "      <th>3</th>\n",
       "      <td>request for payment 148214_3</td>\n",
       "      <td>request for payment 148214</td>\n",
       "      <td>2017-01-09 09:17:18+01:00</td>\n",
       "      <td>Request For Payment SUBMITTED by EMPLOYEE</td>\n",
       "      <td>Request For Payment SUBMITTED by EMPLOYEE</td>\n",
       "      <td>3</td>\n",
       "      <td>6</td>\n",
       "      <td>2017-01-09 09:17:18+01:00</td>\n",
       "      <td>0</td>\n",
       "      <td>NaN</td>\n",
       "      <td>EMPLOYEE</td>\n",
       "      <td>2017-01-09 09:17:18+01:00</td>\n",
       "      <td>STAFF MEMBER</td>\n",
       "      <td>Request For Payment SUBMITTED by EMPLOYEE</td>\n",
       "      <td>st_step 148220_0</td>\n",
       "    </tr>\n",
       "    <tr>\n",
       "      <th>4</th>\n",
       "      <td>request for payment 148214_3</td>\n",
       "      <td>request for payment 148214</td>\n",
       "      <td>2017-01-09 09:18:00+01:00</td>\n",
       "      <td>Request For Payment FINAL_APPROVED by SUPERVISOR</td>\n",
       "      <td>Request For Payment SUBMITTED by EMPLOYEE</td>\n",
       "      <td>3</td>\n",
       "      <td>10</td>\n",
       "      <td>2017-01-09 09:17:18+01:00</td>\n",
       "      <td>0</td>\n",
       "      <td>NaN</td>\n",
       "      <td>SUPERVISOR</td>\n",
       "      <td>2017-01-09 09:18:00+01:00</td>\n",
       "      <td>STAFF MEMBER</td>\n",
       "      <td>Request For Payment FINAL_APPROVED by SUPERVISOR</td>\n",
       "      <td>st_step 148221_0</td>\n",
       "    </tr>\n",
       "  </tbody>\n",
       "</table>\n",
       "</div>"
      ],
      "text/plain": [
       "                      prefix_id                      caseid  \\\n",
       "0  request for payment 148214_1  request for payment 148214   \n",
       "1  request for payment 148214_2  request for payment 148214   \n",
       "2  request for payment 148214_2  request for payment 148214   \n",
       "3  request for payment 148214_3  request for payment 148214   \n",
       "4  request for payment 148214_3  request for payment 148214   \n",
       "\n",
       "               end_timestamp  \\\n",
       "0  2017-01-09 09:17:18+01:00   \n",
       "1  2017-01-09 09:17:18+01:00   \n",
       "2  2017-01-09 09:18:00+01:00   \n",
       "3  2017-01-09 09:17:18+01:00   \n",
       "4  2017-01-09 09:18:00+01:00   \n",
       "\n",
       "                                               task  \\\n",
       "0         Request For Payment SUBMITTED by EMPLOYEE   \n",
       "1         Request For Payment SUBMITTED by EMPLOYEE   \n",
       "2  Request For Payment FINAL_APPROVED by SUPERVISOR   \n",
       "3         Request For Payment SUBMITTED by EMPLOYEE   \n",
       "4  Request For Payment FINAL_APPROVED by SUPERVISOR   \n",
       "\n",
       "                                      next_activity  prefix_length  \\\n",
       "0  Request For Payment FINAL_APPROVED by SUPERVISOR              1   \n",
       "1           Request For Payment REJECTED by MISSING              2   \n",
       "2           Request For Payment REJECTED by MISSING              2   \n",
       "3         Request For Payment SUBMITTED by EMPLOYEE              3   \n",
       "4         Request For Payment SUBMITTED by EMPLOYEE              3   \n",
       "\n",
       "   task_index                trace_start  timelapsed milestone        role  \\\n",
       "0           6  2017-01-09 09:17:18+01:00           0       NaN    EMPLOYEE   \n",
       "1           6  2017-01-09 09:17:18+01:00           0       NaN    EMPLOYEE   \n",
       "2          10  2017-01-09 09:17:18+01:00           0       NaN  SUPERVISOR   \n",
       "3           6  2017-01-09 09:17:18+01:00           0       NaN    EMPLOYEE   \n",
       "4          10  2017-01-09 09:17:18+01:00           0       NaN  SUPERVISOR   \n",
       "\n",
       "              time:timestamp  org:resource  \\\n",
       "0  2017-01-09 09:17:18+01:00  STAFF MEMBER   \n",
       "1  2017-01-09 09:17:18+01:00  STAFF MEMBER   \n",
       "2  2017-01-09 09:18:00+01:00  STAFF MEMBER   \n",
       "3  2017-01-09 09:17:18+01:00  STAFF MEMBER   \n",
       "4  2017-01-09 09:18:00+01:00  STAFF MEMBER   \n",
       "\n",
       "                                       concept:name                id  \n",
       "0         Request For Payment SUBMITTED by EMPLOYEE  st_step 148220_0  \n",
       "1         Request For Payment SUBMITTED by EMPLOYEE  st_step 148220_0  \n",
       "2  Request For Payment FINAL_APPROVED by SUPERVISOR  st_step 148221_0  \n",
       "3         Request For Payment SUBMITTED by EMPLOYEE  st_step 148220_0  \n",
       "4  Request For Payment FINAL_APPROVED by SUPERVISOR  st_step 148221_0  "
      ]
     },
     "execution_count": 5,
     "metadata": {},
     "output_type": "execute_result"
    }
   ],
   "source": [
    "if milestone == 'All':\n",
    "  log_df = pd.read_csv(args['file_name_all'])\n",
    "  log_df = log_df.reset_index(drop=True)\n",
    "else:\n",
    "  log_df = pd.read_csv(args['file_name_all'])\n",
    "  log_df = log_df.reset_index(drop=True)\n",
    "\n",
    "if timelapsed == 'incremental':\n",
    "  log_df['timelapsed'] = log_df['timelapsed_2']\n",
    "\n",
    "log_df.head()"
   ]
  },
  {
   "cell_type": "markdown",
   "metadata": {},
   "source": [
    "Milestone Extraction\n",
    "\n",
    "We expect to filter the prefixes by the milestone, and train the model for each milestone separately to observe if there will be an improvement in the model explainability as well as performance\n"
   ]
  },
  {
   "cell_type": "code",
   "execution_count": 6,
   "metadata": {},
   "outputs": [],
   "source": [
    "if milestone != 'All':\n",
    "  log_df = log_df[log_df['milestone'] == milestone]"
   ]
  },
  {
   "cell_type": "markdown",
   "metadata": {},
   "source": [
    "#### Data Analysis"
   ]
  },
  {
   "cell_type": "code",
   "execution_count": 7,
   "metadata": {},
   "outputs": [
    {
     "name": "stdout",
     "output_type": "stream",
     "text": [
      "Distribution of cases by the target variable - next event\n",
      "\n",
      "next_activity\n",
      "Payment Handled                                        1\n",
      "Request For Payment APPROVED by BUDGET OWNER        2014\n",
      "Request For Payment APPROVED by SUPERVISOR            19\n",
      "Request For Payment FINAL_APPROVED by SUPERVISOR    3312\n",
      "Request For Payment REJECTED by BUDGET OWNER          47\n",
      "Request For Payment REJECTED by SUPERVISOR            95\n",
      "Name: prefix_id, dtype: int64\n"
     ]
    }
   ],
   "source": [
    "#Checking the Balance of the Dataset, by the target variable\n",
    "print('Distribution of cases by the target variable - next event\\n')\n",
    "print(log_df.groupby(['next_activity'])['prefix_id'].nunique())"
   ]
  },
  {
   "cell_type": "code",
   "execution_count": 8,
   "metadata": {},
   "outputs": [],
   "source": [
    "#removing a minority target\n",
    "log_df = log_df.drop(log_df[log_df.next_activity == 'Payment Handled'].index)"
   ]
  },
  {
   "cell_type": "markdown",
   "metadata": {},
   "source": [
    "Reduce Loops\n",
    "\n",
    "Function : `reduce_loops(df)`, Author: Manuel Camargo, Edited by: Bemali Wickramanayake"
   ]
  },
  {
   "cell_type": "code",
   "execution_count": 9,
   "metadata": {},
   "outputs": [],
   "source": [
    "if experiment == 'No_Loops':\n",
    "  log_df = reduce_loops(log_df)"
   ]
  },
  {
   "cell_type": "markdown",
   "metadata": {},
   "source": [
    "#### Data Encoding and Vectorization"
   ]
  },
  {
   "cell_type": "markdown",
   "metadata": {},
   "source": [
    "Index creating for data encoding\n",
    "Function : `create_index(log_df, column)`, Author: Manuel Camargo, Edited by: Bemali Wickramanayake"
   ]
  },
  {
   "cell_type": "code",
   "execution_count": 10,
   "metadata": {},
   "outputs": [
    {
     "name": "stdout",
     "output_type": "stream",
     "text": [
      "{'none': 0, 'ADMINISTRATION': 1, 'BUDGET OWNER': 2, 'EMPLOYEE': 3, 'SUPERVISOR': 4}\n",
      "{0: 'none', 1: 'ADMINISTRATION', 2: 'BUDGET OWNER', 3: 'EMPLOYEE', 4: 'SUPERVISOR'}\n"
     ]
    },
    {
     "data": {
      "text/html": [
       "<div>\n",
       "<style scoped>\n",
       "    .dataframe tbody tr th:only-of-type {\n",
       "        vertical-align: middle;\n",
       "    }\n",
       "\n",
       "    .dataframe tbody tr th {\n",
       "        vertical-align: top;\n",
       "    }\n",
       "\n",
       "    .dataframe thead th {\n",
       "        text-align: right;\n",
       "    }\n",
       "</style>\n",
       "<table border=\"1\" class=\"dataframe\">\n",
       "  <thead>\n",
       "    <tr style=\"text-align: right;\">\n",
       "      <th></th>\n",
       "      <th>prefix_id</th>\n",
       "      <th>caseid</th>\n",
       "      <th>end_timestamp</th>\n",
       "      <th>task</th>\n",
       "      <th>next_activity</th>\n",
       "      <th>prefix_length</th>\n",
       "      <th>task_index</th>\n",
       "      <th>trace_start</th>\n",
       "      <th>timelapsed</th>\n",
       "      <th>milestone</th>\n",
       "      <th>role</th>\n",
       "      <th>time:timestamp</th>\n",
       "      <th>org:resource</th>\n",
       "      <th>concept:name</th>\n",
       "      <th>id</th>\n",
       "      <th>ac_index</th>\n",
       "      <th>rl_index</th>\n",
       "      <th>ne_index</th>\n",
       "    </tr>\n",
       "  </thead>\n",
       "  <tbody>\n",
       "    <tr>\n",
       "      <th>8484</th>\n",
       "      <td>request for payment 157874_5</td>\n",
       "      <td>request for payment 157874</td>\n",
       "      <td>2017-12-06 08:34:12+01:00</td>\n",
       "      <td>Request For Payment SUBMITTED by EMPLOYEE</td>\n",
       "      <td>Request For Payment FINAL_APPROVED by SUPERVISOR</td>\n",
       "      <td>5</td>\n",
       "      <td>6</td>\n",
       "      <td>2017-12-06 08:34:12+01:00</td>\n",
       "      <td>0</td>\n",
       "      <td>Request For Payment APPROVED by ADMINISTRATION</td>\n",
       "      <td>EMPLOYEE</td>\n",
       "      <td>2017-12-06 08:34:12+01:00</td>\n",
       "      <td>STAFF MEMBER</td>\n",
       "      <td>Request For Payment SUBMITTED by EMPLOYEE</td>\n",
       "      <td>st_step 157879_0</td>\n",
       "      <td>7</td>\n",
       "      <td>3</td>\n",
       "      <td>2</td>\n",
       "    </tr>\n",
       "    <tr>\n",
       "      <th>8485</th>\n",
       "      <td>request for payment 157874_5</td>\n",
       "      <td>request for payment 157874</td>\n",
       "      <td>2018-02-14 10:38:40+01:00</td>\n",
       "      <td>Request For Payment REJECTED by ADMINISTRATION</td>\n",
       "      <td>Request For Payment FINAL_APPROVED by SUPERVISOR</td>\n",
       "      <td>5</td>\n",
       "      <td>3</td>\n",
       "      <td>2017-12-06 08:34:12+01:00</td>\n",
       "      <td>1682</td>\n",
       "      <td>Request For Payment APPROVED by ADMINISTRATION</td>\n",
       "      <td>ADMINISTRATION</td>\n",
       "      <td>2018-02-14 10:38:40+01:00</td>\n",
       "      <td>STAFF MEMBER</td>\n",
       "      <td>Request For Payment REJECTED by ADMINISTRATION</td>\n",
       "      <td>st_step 157881_0</td>\n",
       "      <td>3</td>\n",
       "      <td>1</td>\n",
       "      <td>2</td>\n",
       "    </tr>\n",
       "    <tr>\n",
       "      <th>8486</th>\n",
       "      <td>request for payment 157874_5</td>\n",
       "      <td>request for payment 157874</td>\n",
       "      <td>2018-02-15 14:26:04+01:00</td>\n",
       "      <td>Request For Payment REJECTED by EMPLOYEE</td>\n",
       "      <td>Request For Payment FINAL_APPROVED by SUPERVISOR</td>\n",
       "      <td>5</td>\n",
       "      <td>7</td>\n",
       "      <td>2017-12-06 08:34:12+01:00</td>\n",
       "      <td>1709</td>\n",
       "      <td>Request For Payment APPROVED by ADMINISTRATION</td>\n",
       "      <td>EMPLOYEE</td>\n",
       "      <td>2018-02-15 14:26:04+01:00</td>\n",
       "      <td>STAFF MEMBER</td>\n",
       "      <td>Request For Payment REJECTED by EMPLOYEE</td>\n",
       "      <td>st_step 157880_0</td>\n",
       "      <td>5</td>\n",
       "      <td>3</td>\n",
       "      <td>2</td>\n",
       "    </tr>\n",
       "    <tr>\n",
       "      <th>8487</th>\n",
       "      <td>request for payment 157874_5</td>\n",
       "      <td>request for payment 157874</td>\n",
       "      <td>2018-03-28 08:50:44+02:00</td>\n",
       "      <td>Request For Payment SUBMITTED by EMPLOYEE</td>\n",
       "      <td>Request For Payment FINAL_APPROVED by SUPERVISOR</td>\n",
       "      <td>5</td>\n",
       "      <td>6</td>\n",
       "      <td>2017-12-06 08:34:12+01:00</td>\n",
       "      <td>2687</td>\n",
       "      <td>Request For Payment APPROVED by ADMINISTRATION</td>\n",
       "      <td>EMPLOYEE</td>\n",
       "      <td>2018-03-28 08:50:44+02:00</td>\n",
       "      <td>STAFF MEMBER</td>\n",
       "      <td>Request For Payment SUBMITTED by EMPLOYEE</td>\n",
       "      <td>st_step 157877_0</td>\n",
       "      <td>7</td>\n",
       "      <td>3</td>\n",
       "      <td>2</td>\n",
       "    </tr>\n",
       "    <tr>\n",
       "      <th>8488</th>\n",
       "      <td>request for payment 157874_5</td>\n",
       "      <td>request for payment 157874</td>\n",
       "      <td>2018-03-28 08:50:53+02:00</td>\n",
       "      <td>Request For Payment APPROVED by ADMINISTRATION</td>\n",
       "      <td>Request For Payment FINAL_APPROVED by SUPERVISOR</td>\n",
       "      <td>5</td>\n",
       "      <td>4</td>\n",
       "      <td>2017-12-06 08:34:12+01:00</td>\n",
       "      <td>2687</td>\n",
       "      <td>Request For Payment APPROVED by ADMINISTRATION</td>\n",
       "      <td>ADMINISTRATION</td>\n",
       "      <td>2018-03-28 08:50:53+02:00</td>\n",
       "      <td>STAFF MEMBER</td>\n",
       "      <td>Request For Payment APPROVED by ADMINISTRATION</td>\n",
       "      <td>st_step 157876_0</td>\n",
       "      <td>1</td>\n",
       "      <td>1</td>\n",
       "      <td>2</td>\n",
       "    </tr>\n",
       "  </tbody>\n",
       "</table>\n",
       "</div>"
      ],
      "text/plain": [
       "                         prefix_id                      caseid  \\\n",
       "8484  request for payment 157874_5  request for payment 157874   \n",
       "8485  request for payment 157874_5  request for payment 157874   \n",
       "8486  request for payment 157874_5  request for payment 157874   \n",
       "8487  request for payment 157874_5  request for payment 157874   \n",
       "8488  request for payment 157874_5  request for payment 157874   \n",
       "\n",
       "                  end_timestamp  \\\n",
       "8484  2017-12-06 08:34:12+01:00   \n",
       "8485  2018-02-14 10:38:40+01:00   \n",
       "8486  2018-02-15 14:26:04+01:00   \n",
       "8487  2018-03-28 08:50:44+02:00   \n",
       "8488  2018-03-28 08:50:53+02:00   \n",
       "\n",
       "                                                task  \\\n",
       "8484       Request For Payment SUBMITTED by EMPLOYEE   \n",
       "8485  Request For Payment REJECTED by ADMINISTRATION   \n",
       "8486        Request For Payment REJECTED by EMPLOYEE   \n",
       "8487       Request For Payment SUBMITTED by EMPLOYEE   \n",
       "8488  Request For Payment APPROVED by ADMINISTRATION   \n",
       "\n",
       "                                         next_activity  prefix_length  \\\n",
       "8484  Request For Payment FINAL_APPROVED by SUPERVISOR              5   \n",
       "8485  Request For Payment FINAL_APPROVED by SUPERVISOR              5   \n",
       "8486  Request For Payment FINAL_APPROVED by SUPERVISOR              5   \n",
       "8487  Request For Payment FINAL_APPROVED by SUPERVISOR              5   \n",
       "8488  Request For Payment FINAL_APPROVED by SUPERVISOR              5   \n",
       "\n",
       "      task_index                trace_start  timelapsed  \\\n",
       "8484           6  2017-12-06 08:34:12+01:00           0   \n",
       "8485           3  2017-12-06 08:34:12+01:00        1682   \n",
       "8486           7  2017-12-06 08:34:12+01:00        1709   \n",
       "8487           6  2017-12-06 08:34:12+01:00        2687   \n",
       "8488           4  2017-12-06 08:34:12+01:00        2687   \n",
       "\n",
       "                                           milestone            role  \\\n",
       "8484  Request For Payment APPROVED by ADMINISTRATION        EMPLOYEE   \n",
       "8485  Request For Payment APPROVED by ADMINISTRATION  ADMINISTRATION   \n",
       "8486  Request For Payment APPROVED by ADMINISTRATION        EMPLOYEE   \n",
       "8487  Request For Payment APPROVED by ADMINISTRATION        EMPLOYEE   \n",
       "8488  Request For Payment APPROVED by ADMINISTRATION  ADMINISTRATION   \n",
       "\n",
       "                 time:timestamp  org:resource  \\\n",
       "8484  2017-12-06 08:34:12+01:00  STAFF MEMBER   \n",
       "8485  2018-02-14 10:38:40+01:00  STAFF MEMBER   \n",
       "8486  2018-02-15 14:26:04+01:00  STAFF MEMBER   \n",
       "8487  2018-03-28 08:50:44+02:00  STAFF MEMBER   \n",
       "8488  2018-03-28 08:50:53+02:00  STAFF MEMBER   \n",
       "\n",
       "                                        concept:name                id  \\\n",
       "8484       Request For Payment SUBMITTED by EMPLOYEE  st_step 157879_0   \n",
       "8485  Request For Payment REJECTED by ADMINISTRATION  st_step 157881_0   \n",
       "8486        Request For Payment REJECTED by EMPLOYEE  st_step 157880_0   \n",
       "8487       Request For Payment SUBMITTED by EMPLOYEE  st_step 157877_0   \n",
       "8488  Request For Payment APPROVED by ADMINISTRATION  st_step 157876_0   \n",
       "\n",
       "      ac_index  rl_index  ne_index  \n",
       "8484         7         3         2  \n",
       "8485         3         1         2  \n",
       "8486         5         3         2  \n",
       "8487         7         3         2  \n",
       "8488         1         1         2  "
      ]
     },
     "execution_count": 10,
     "metadata": {},
     "output_type": "execute_result"
    }
   ],
   "source": [
    "# Index creation for activity\n",
    "\n",
    "ac_index = create_index(log_df, 'task')\n",
    "index_ac = {v: k for k, v in ac_index.items()}\n",
    "\n",
    "# Index creation for unit\n",
    "\n",
    "rl_index = create_index(log_df, 'role')\n",
    "index_rl = {v: k for k, v in rl_index.items()}\n",
    "\n",
    "# Index creation for next activity\n",
    "\n",
    "ne_index = create_index(log_df, 'next_activity')\n",
    "\n",
    "index_ne = {v: k for k, v in ne_index.items()}\n",
    "\n",
    "#mapping the dictionary values as columns in the dataframe\n",
    "log_df['ac_index'] = log_df['task'].map(ac_index)\n",
    "log_df['rl_index'] = log_df['role'].map(rl_index)\n",
    "log_df['ne_index'] = log_df['next_activity'].map(ne_index)\n",
    "\n",
    "print(rl_index)\n",
    "print(index_rl)\n",
    "log_df.head()"
   ]
  },
  {
   "cell_type": "code",
   "execution_count": 11,
   "metadata": {},
   "outputs": [
    {
     "name": "stdout",
     "output_type": "stream",
     "text": [
      "{'Request For Payment APPROVED by BUDGET OWNER': 0, 'Request For Payment APPROVED by SUPERVISOR': 1, 'Request For Payment FINAL_APPROVED by SUPERVISOR': 2, 'Request For Payment REJECTED by BUDGET OWNER': 3, 'Request For Payment REJECTED by SUPERVISOR': 4}\n"
     ]
    }
   ],
   "source": [
    "print(ne_index)"
   ]
  },
  {
   "cell_type": "markdown",
   "metadata": {},
   "source": [
    "Splitting the dataframe into test and train sets\n",
    "\n",
    "Function : `split_train_test(df, percentage)`, Author: Bemali Wickramanayake"
   ]
  },
  {
   "cell_type": "code",
   "execution_count": 12,
   "metadata": {},
   "outputs": [],
   "source": [
    "# Split validation datasets\n",
    "log_df_train, log_df_test = split_train_test(log_df, 0.3) # 70%/30%"
   ]
  },
  {
   "cell_type": "markdown",
   "metadata": {},
   "source": [
    "Normalize Numerical Features\n",
    "\n",
    "Function : `normalize_events(log_df,args,numerical_features)`, Author: Manuel Camargo, Edited by: Bemali Wickramanayake\n"
   ]
  },
  {
   "cell_type": "code",
   "execution_count": 13,
   "metadata": {},
   "outputs": [],
   "source": [
    "numerical_features = ['timelapsed']\n",
    "log_df_train = normalize_events(log_df_train,args,numerical_features)\n",
    "log_df_test = normalize_events(log_df_test,args,numerical_features)\n"
   ]
  },
  {
   "cell_type": "code",
   "execution_count": 14,
   "metadata": {},
   "outputs": [
    {
     "name": "stdout",
     "output_type": "stream",
     "text": [
      "Number of traces in training set is:3841\n",
      "Number of traces in test set is:1646\n"
     ]
    }
   ],
   "source": [
    "training_traces = len(log_df_train['prefix_id'].unique())\n",
    "test_traces = len(log_df_test['prefix_id'].unique())\n",
    "\n",
    "\n",
    "print('Number of traces in training set is:'+str(training_traces))\n",
    "print('Number of traces in test set is:'+str(test_traces))\n"
   ]
  },
  {
   "cell_type": "code",
   "execution_count": 15,
   "metadata": {},
   "outputs": [
    {
     "name": "stdout",
     "output_type": "stream",
     "text": [
      "training dataset\n",
      "next_activity\n",
      "Request For Payment APPROVED by BUDGET OWNER        1388\n",
      "Request For Payment APPROVED by SUPERVISOR            13\n",
      "Request For Payment FINAL_APPROVED by SUPERVISOR    2351\n",
      "Request For Payment REJECTED by BUDGET OWNER          34\n",
      "Request For Payment REJECTED by SUPERVISOR            55\n",
      "Name: prefix_id, dtype: int64\n",
      "\n",
      "test dataset\n",
      "next_activity\n",
      "Request For Payment APPROVED by BUDGET OWNER        626\n",
      "Request For Payment APPROVED by SUPERVISOR            6\n",
      "Request For Payment FINAL_APPROVED by SUPERVISOR    961\n",
      "Request For Payment REJECTED by BUDGET OWNER         13\n",
      "Request For Payment REJECTED by SUPERVISOR           40\n",
      "Name: prefix_id, dtype: int64\n",
      "\n"
     ]
    }
   ],
   "source": [
    "#Checking the Balance of the Dataset, by the target variable\n",
    "print('training dataset')\n",
    "print(log_df_train.groupby(['next_activity'])['prefix_id'].nunique())\n",
    "print(\"\")\n",
    "print('test dataset')\n",
    "print(log_df_test.groupby(['next_activity'])['prefix_id'].nunique())\n",
    "print(\"\")\n",
    "\n"
   ]
  },
  {
   "cell_type": "markdown",
   "metadata": {},
   "source": [
    "Reformat events: converting the dataframe into a dictionary to aid vectorization\n",
    "\n",
    "Function : `reformat_events(log_df, ac_index, rl_index,ne_index)`, Author: Renuka Sindagatta/ Manuel Camargo, Edited by: Bemali Wickramanayake\n",
    "\n",
    "\n"
   ]
  },
  {
   "cell_type": "code",
   "execution_count": 16,
   "metadata": {},
   "outputs": [
    {
     "name": "stdout",
     "output_type": "stream",
     "text": [
      "{'caseid': 'request for payment 161442_5', 'ac_order': [5, 7, 7, 1, 3], 'rl_order': [3, 3, 3, 1, 1], 'tbtw': [0.45860839883620025, 3.432703237307762, -0.41704036899183217, 3.432703237307762, -0.41704036899183217], 'next_activity': 0}\n"
     ]
    }
   ],
   "source": [
    "log_train = reformat_events(log_df_train, ac_index, rl_index,ne_index)\n",
    "log_test = reformat_events(log_df_test, ac_index, rl_index,ne_index)\n",
    "#log_val = reformat_events(log_df_val, ac_index, rl_index,ne_index)\n",
    "\n",
    "#print a sample of the dictionary\n",
    "print(log_train[200])"
   ]
  },
  {
   "cell_type": "markdown",
   "metadata": {},
   "source": [
    "Vectorization: Convert the data dictionaries into trainable multi dimensional tensors\n",
    "\n",
    "Function: `vectorization(log,ac_index, rl_index, ne_index,trc_len,cases)` , Author: Bemali Wickramanayake, Inspired by the code of: Renuka Sindagatta\n",
    "\n",
    "\n",
    "\n"
   ]
  },
  {
   "cell_type": "code",
   "execution_count": 17,
   "metadata": {},
   "outputs": [
    {
     "name": "stdout",
     "output_type": "stream",
     "text": [
      "trace_length: 17, training cases: 3842, test cases: 1647\n"
     ]
    }
   ],
   "source": [
    "#Obtain the maximum trc_len and cases for each set\n",
    "\n",
    "trc_len_train, cases_train = lengths(log_train)\n",
    "trc_len_test, cases_test = lengths(log_test)\n",
    "#trc_len_val, cases_val = lengths(log_val)\n",
    "\n",
    "trc_len = max([trc_len_train, trc_len_test])\n",
    "\n",
    "print(\"trace_length: \"+str(trc_len)+\", training cases: \"+str(cases_train)+\", test cases: \"+str(cases_test) )"
   ]
  },
  {
   "cell_type": "markdown",
   "metadata": {},
   "source": [
    "converting the training log (dictionary) into a Tensor"
   ]
  },
  {
   "cell_type": "code",
   "execution_count": 18,
   "metadata": {},
   "outputs": [],
   "source": [
    "vec_train = vectorization(log_train,ac_index, rl_index, ne_index,trc_len,cases_train)\n",
    "vec_test = vectorization(log_test,ac_index, rl_index, ne_index,trc_len,cases_test)\n",
    "#vec_val = vectorization(log_val,ac_index, rl_index, ne_index,trc_len,cases_val)"
   ]
  },
  {
   "cell_type": "code",
   "execution_count": 19,
   "metadata": {},
   "outputs": [
    {
     "data": {
      "text/plain": [
       "array([[7., 1., 0., ..., 0., 0., 0.],\n",
       "       [7., 1., 0., ..., 0., 0., 0.],\n",
       "       [4., 5., 7., ..., 0., 0., 0.],\n",
       "       ...,\n",
       "       [7., 1., 0., ..., 0., 0., 0.],\n",
       "       [7., 1., 0., ..., 0., 0., 0.],\n",
       "       [7., 1., 0., ..., 0., 0., 0.]])"
      ]
     },
     "execution_count": 19,
     "metadata": {},
     "output_type": "execute_result"
    }
   ],
   "source": [
    "vec_train['prefixes']['x_ac_inp']"
   ]
  },
  {
   "cell_type": "markdown",
   "metadata": {},
   "source": [
    "#### Generating Initial Embedding Weights for shared Model"
   ]
  },
  {
   "cell_type": "code",
   "execution_count": 20,
   "metadata": {},
   "outputs": [],
   "source": [
    "ac_weights = to_categorical(sorted(index_ac.keys()), num_classes = len(ac_index))\n",
    "ac_weights[0] = 0 # embedding weights for label none = 0\n",
    "\n",
    "rl_weights =  to_categorical(sorted(index_rl.keys()), num_classes = len(rl_index))\n",
    "rl_weights[0] = 0 # embeddig weights for label none = 0\n"
   ]
  },
  {
   "cell_type": "markdown",
   "metadata": {},
   "source": [
    "#### Saving the Processed Tensor and Other Support Data"
   ]
  },
  {
   "cell_type": "code",
   "execution_count": 21,
   "metadata": {},
   "outputs": [],
   "source": [
    "# saving the processed tensor\n",
    "dirname = os.path.dirname(args['processed_training_vec'])\n",
    "\n",
    "if not os.path.exists(dirname):\n",
    "    os.makedirs(dirname)\n",
    "\n",
    "with open(args['processed_training_vec'], 'wb') as fp:\n",
    "    pickle.dump(vec_train, fp, protocol=pickle.HIGHEST_PROTOCOL)\n",
    "with open(args['processed_test_vec'], 'wb') as fp:\n",
    "    pickle.dump(vec_test, fp, protocol=pickle.HIGHEST_PROTOCOL)\n",
    "\n",
    "\n",
    "# converting the weights into a dictionary and saving\n",
    "weights = {'ac_weights':ac_weights, 'rl_weights':rl_weights, 'next_activity':len(ne_index)}\n",
    "with open(args['weights'], 'wb') as fp:\n",
    "    pickle.dump(weights, fp, protocol=pickle.HIGHEST_PROTOCOL)\n",
    "\n",
    "# converting the weights into a dictionary and saving\n",
    "indexes = {'index_ac':index_ac, 'index_rl':index_rl,'index_ne':index_ne}\n",
    "with open(args['indexes'], 'wb') as fp:\n",
    "    pickle.dump(indexes, fp, protocol=pickle.HIGHEST_PROTOCOL)\n",
    "\n",
    "# converting the weights into a dictionary and saving\n",
    "pre_index = {'ac_index':ac_index, 'rl_index':rl_index,'ne_index':ne_index}\n",
    "with open(args['pre_index'], 'wb') as fp:\n",
    "    pickle.dump(pre_index, fp, protocol=pickle.HIGHEST_PROTOCOL)\n",
    "\n",
    "#saving the arguements (args)\n",
    "with open(args['args'], 'wb') as fp:\n",
    "    pickle.dump(args, fp, protocol=pickle.HIGHEST_PROTOCOL)\n"
   ]
  },
  {
   "cell_type": "markdown",
   "metadata": {},
   "source": [
    "### Experiments"
   ]
  },
  {
   "cell_type": "markdown",
   "metadata": {},
   "source": [
    "#### Load the Required Libraries"
   ]
  },
  {
   "cell_type": "code",
   "execution_count": 22,
   "metadata": {},
   "outputs": [
    {
     "name": "stdout",
     "output_type": "stream",
     "text": [
      "Requirement already satisfied: pyflowchart in c:\\users\\20182009\\documents\\master dsai\\y2 q1\\2imi00 seminar process analytics\\replicationstudy\\.venv\\lib\\site-packages (0.3.1)\n",
      "Requirement already satisfied: astunparse in c:\\users\\20182009\\documents\\master dsai\\y2 q1\\2imi00 seminar process analytics\\replicationstudy\\.venv\\lib\\site-packages (from pyflowchart) (1.6.3)\n",
      "Requirement already satisfied: chardet in c:\\users\\20182009\\documents\\master dsai\\y2 q1\\2imi00 seminar process analytics\\replicationstudy\\.venv\\lib\\site-packages (from pyflowchart) (5.2.0)\n",
      "Requirement already satisfied: wheel<1.0,>=0.23.0 in c:\\users\\20182009\\documents\\master dsai\\y2 q1\\2imi00 seminar process analytics\\replicationstudy\\.venv\\lib\\site-packages (from astunparse->pyflowchart) (0.41.2)\n",
      "Requirement already satisfied: six<2.0,>=1.6.1 in c:\\users\\20182009\\documents\\master dsai\\y2 q1\\2imi00 seminar process analytics\\replicationstudy\\.venv\\lib\\site-packages (from astunparse->pyflowchart) (1.16.0)\n"
     ]
    },
    {
     "name": "stderr",
     "output_type": "stream",
     "text": [
      "\n",
      "[notice] A new release of pip is available: 23.2.1 -> 23.3.1\n",
      "[notice] To update, run: python.exe -m pip install --upgrade pip\n"
     ]
    },
    {
     "name": "stdout",
     "output_type": "stream",
     "text": [
      "Requirement already satisfied: plotly in c:\\users\\20182009\\documents\\master dsai\\y2 q1\\2imi00 seminar process analytics\\replicationstudy\\.venv\\lib\\site-packages (5.18.0)\n",
      "Requirement already satisfied: tenacity>=6.2.0 in c:\\users\\20182009\\documents\\master dsai\\y2 q1\\2imi00 seminar process analytics\\replicationstudy\\.venv\\lib\\site-packages (from plotly) (8.2.3)\n",
      "Requirement already satisfied: packaging in c:\\users\\20182009\\documents\\master dsai\\y2 q1\\2imi00 seminar process analytics\\replicationstudy\\.venv\\lib\\site-packages (from plotly) (23.2)\n"
     ]
    },
    {
     "name": "stderr",
     "output_type": "stream",
     "text": [
      "\n",
      "[notice] A new release of pip is available: 23.2.1 -> 23.3.1\n",
      "[notice] To update, run: python.exe -m pip install --upgrade pip\n"
     ]
    }
   ],
   "source": [
    "!pip3 install pyflowchart\n",
    "!pip install --upgrade plotly\n"
   ]
  },
  {
   "cell_type": "markdown",
   "metadata": {},
   "source": [
    "#### Load the Required Libraries"
   ]
  },
  {
   "cell_type": "code",
   "execution_count": 23,
   "metadata": {},
   "outputs": [],
   "source": [
    "import os\n",
    "import pickle\n",
    "import numpy as np\n",
    "import pandas as pd\n",
    "\n",
    "import tensorflow as tf\n",
    "from tensorflow.keras import callbacks, Model\n",
    "from tensorflow.keras.utils import to_categorical\n",
    "from tensorflow.keras.models import load_model\n",
    "\n",
    "import seaborn as sn\n",
    "import matplotlib.pyplot as plt\n",
    "from sklearn.metrics import confusion_matrix, classification_report\n",
    "from pyflowchart import *\n",
    "import plotly.express as px\n",
    "\n",
    "from models.shared import *\n",
    "from models.specialised import *\n",
    "from models.explain import *"
   ]
  },
  {
   "cell_type": "markdown",
   "metadata": {},
   "source": [
    "#### Load the Required Parameters"
   ]
  },
  {
   "cell_type": "code",
   "execution_count": 24,
   "metadata": {},
   "outputs": [],
   "source": [
    "#with open(os.path.join(MILESTONE_DIR,'args.p'), 'rb') as fp:\n",
    "    #args = pickle.load(fp)\n",
    "\n",
    "with open(args['processed_training_vec'], 'rb') as fp:\n",
    "    vec_train = pickle.load(fp)\n",
    "with open(args['processed_test_vec'], 'rb') as fp:\n",
    "    vec_test = pickle.load(fp)\n",
    "    \n",
    "with open(args['weights'], 'rb') as fp:\n",
    "    weights = pickle.load(fp)\n",
    "ac_weights = weights['ac_weights']\n",
    "rl_weights = weights['rl_weights']\n",
    "next_activity = weights['next_activity']\n",
    "\n",
    "with open(args['indexes'], 'rb') as fp:\n",
    "    indexes = pickle.load(fp)\n",
    "    index_ac = indexes['index_ac']\n",
    "    index_rl = indexes['index_rl']\n",
    "    index_ne = indexes['index_ne']\n",
    "\n",
    "with open(args['pre_index'], 'rb') as fp:\n",
    "    pre_index = pickle.load(fp)\n",
    "    ac_index = pre_index['ac_index']\n",
    "    rl_index = pre_index['rl_index']\n",
    "    ne_index = pre_index['ne_index']"
   ]
  },
  {
   "cell_type": "markdown",
   "metadata": {},
   "source": [
    "#### shared Model : (Sindhagatta et al, 2020) DOI: https://doi.org/10.1007/978-3-030-58666-9_15"
   ]
  },
  {
   "cell_type": "code",
   "execution_count": 25,
   "metadata": {},
   "outputs": [],
   "source": [
    "shared = shared_model(vec_train, weights, indexes, pre_index, args)"
   ]
  },
  {
   "cell_type": "code",
   "execution_count": 26,
   "metadata": {},
   "outputs": [
    {
     "name": "stdout",
     "output_type": "stream",
     "text": [
      "Model: \"model\"\n",
      "__________________________________________________________________________________________________\n",
      " Layer (type)                Output Shape                 Param #   Connected to                  \n",
      "==================================================================================================\n",
      " ac_input (InputLayer)       [(None, 5)]                  0         []                            \n",
      "                                                                                                  \n",
      " rl_input (InputLayer)       [(None, 5)]                  0         []                            \n",
      "                                                                                                  \n",
      " ac_embedding (Embedding)    (None, 5, 8)                 64        ['ac_input[0][0]']            \n",
      "                                                                                                  \n",
      " rl_embedding (Embedding)    (None, 5, 5)                 25        ['rl_input[0][0]']            \n",
      "                                                                                                  \n",
      " t_input (InputLayer)        [(None, 5, 1)]               0         []                            \n",
      "                                                                                                  \n",
      " full_embs (Concatenate)     (None, 5, 14)                0         ['ac_embedding[0][0]',        \n",
      "                                                                     'rl_embedding[0][0]',        \n",
      "                                                                     't_input[0][0]']             \n",
      "                                                                                                  \n",
      " dropout (Dropout)           (None, 5, 14)                0         ['full_embs[0][0]']           \n",
      "                                                                                                  \n",
      " alpha (Bidirectional)       (None, 5, 100)               26000     ['dropout[0][0]']             \n",
      "                                                                                                  \n",
      " alpha_dense (TimeDistribut  (None, 5, 1)                 101       ['alpha[0][0]']               \n",
      " ed)                                                                                              \n",
      "                                                                                                  \n",
      " beta (Bidirectional)        (None, 5, 100)               26000     ['dropout[0][0]']             \n",
      "                                                                                                  \n",
      " timestep_attention (Softma  (None, 5, 1)                 0         ['alpha_dense[0][0]']         \n",
      " x)                                                                                               \n",
      "                                                                                                  \n",
      " feature_attention (TimeDis  (None, 5, 14)                1414      ['beta[0][0]']                \n",
      " tributed)                                                                                        \n",
      "                                                                                                  \n",
      " feature_importance (Multip  (None, 5, 14)                0         ['timestep_attention[0][0]',  \n",
      " ly)                                                                 'feature_attention[0][0]',   \n",
      "                                                                     'dropout[0][0]']             \n",
      "                                                                                                  \n",
      " lambda (Lambda)             (None, 14)                   0         ['feature_importance[0][0]']  \n",
      "                                                                                                  \n",
      " dropout_1 (Dropout)         (None, 14)                   0         ['lambda[0][0]']              \n",
      "                                                                                                  \n",
      " act_output (Dense)          (None, 5)                    75        ['dropout_1[0][0]']           \n",
      "                                                                                                  \n"
     ]
    },
    {
     "name": "stdout",
     "output_type": "stream",
     "text": [
      "==================================================================================================\n",
      "Total params: 53679 (209.68 KB)\n",
      "Trainable params: 53679 (209.68 KB)\n",
      "Non-trainable params: 0 (0.00 Byte)\n",
      "__________________________________________________________________________________________________\n"
     ]
    }
   ],
   "source": [
    "shared.compile(loss='categorical_crossentropy', optimizer='Adam', metrics=['accuracy'])\n",
    "shared.summary()"
   ]
  },
  {
   "cell_type": "code",
   "execution_count": 27,
   "metadata": {},
   "outputs": [],
   "source": [
    "batch_size = 256 # 32, 64, 128, 256\n",
    "epochs = 100"
   ]
  },
  {
   "cell_type": "code",
   "execution_count": 28,
   "metadata": {},
   "outputs": [
    {
     "name": "stdout",
     "output_type": "stream",
     "text": [
      "Epoch 1/100\n",
      "13/13 [==============================] - 9s 171ms/step - loss: 1.5959 - accuracy: 0.3865 - val_loss: 1.5831 - val_accuracy: 0.3744 - lr: 0.0010\n",
      "Epoch 2/100\n",
      "13/13 [==============================] - 0s 28ms/step - loss: 1.5526 - accuracy: 0.5167 - val_loss: 1.5330 - val_accuracy: 0.6101 - lr: 0.0010\n",
      "Epoch 3/100\n",
      "13/13 [==============================] - 0s 24ms/step - loss: 1.4814 - accuracy: 0.5259 - val_loss: 1.4336 - val_accuracy: 0.6049 - lr: 0.0010\n",
      "Epoch 4/100\n",
      "13/13 [==============================] - 0s 26ms/step - loss: 1.3511 - accuracy: 0.5207 - val_loss: 1.2555 - val_accuracy: 0.5927 - lr: 0.0010\n",
      "Epoch 5/100\n",
      "13/13 [==============================] - 0s 20ms/step - loss: 1.1990 - accuracy: 0.5093 - val_loss: 1.1050 - val_accuracy: 0.6014 - lr: 0.0010\n",
      "Epoch 6/100\n",
      "13/13 [==============================] - 0s 18ms/step - loss: 1.0787 - accuracy: 0.5531 - val_loss: 1.0072 - val_accuracy: 0.6083 - lr: 0.0010\n",
      "Epoch 7/100\n",
      "13/13 [==============================] - 0s 18ms/step - loss: 1.0077 - accuracy: 0.5819 - val_loss: 0.9428 - val_accuracy: 0.6170 - lr: 0.0010\n",
      "Epoch 8/100\n",
      "13/13 [==============================] - 0s 21ms/step - loss: 0.9616 - accuracy: 0.5871 - val_loss: 0.8983 - val_accuracy: 0.6170 - lr: 0.0010\n",
      "Epoch 9/100\n",
      "13/13 [==============================] - 0s 19ms/step - loss: 0.9322 - accuracy: 0.5715 - val_loss: 0.8682 - val_accuracy: 0.6170 - lr: 0.0010\n",
      "Epoch 10/100\n",
      "13/13 [==============================] - 0s 18ms/step - loss: 0.9097 - accuracy: 0.5786 - val_loss: 0.8434 - val_accuracy: 0.6170 - lr: 0.0010\n",
      "Epoch 11/100\n",
      "13/13 [==============================] - 0s 19ms/step - loss: 0.8798 - accuracy: 0.5859 - val_loss: 0.8253 - val_accuracy: 0.6153 - lr: 0.0010\n",
      "Epoch 12/100\n",
      "13/13 [==============================] - 0s 19ms/step - loss: 0.8766 - accuracy: 0.5709 - val_loss: 0.8154 - val_accuracy: 0.6135 - lr: 0.0010\n",
      "Epoch 13/100\n",
      "13/13 [==============================] - 0s 19ms/step - loss: 0.8604 - accuracy: 0.5917 - val_loss: 0.8038 - val_accuracy: 0.6135 - lr: 0.0010\n",
      "Epoch 14/100\n",
      "13/13 [==============================] - 0s 20ms/step - loss: 0.8564 - accuracy: 0.5899 - val_loss: 0.7952 - val_accuracy: 0.6187 - lr: 0.0010\n",
      "Epoch 15/100\n",
      "13/13 [==============================] - 0s 20ms/step - loss: 0.8406 - accuracy: 0.5911 - val_loss: 0.7897 - val_accuracy: 0.6118 - lr: 0.0010\n",
      "Epoch 16/100\n",
      "13/13 [==============================] - 0s 18ms/step - loss: 0.8465 - accuracy: 0.5838 - val_loss: 0.7836 - val_accuracy: 0.6135 - lr: 0.0010\n",
      "Epoch 17/100\n",
      "13/13 [==============================] - 0s 19ms/step - loss: 0.8290 - accuracy: 0.5926 - val_loss: 0.7790 - val_accuracy: 0.6083 - lr: 0.0010\n",
      "Epoch 18/100\n",
      "13/13 [==============================] - 0s 20ms/step - loss: 0.8324 - accuracy: 0.5960 - val_loss: 0.7779 - val_accuracy: 0.6083 - lr: 0.0010\n",
      "Epoch 19/100\n",
      "13/13 [==============================] - 0s 18ms/step - loss: 0.8310 - accuracy: 0.5979 - val_loss: 0.7735 - val_accuracy: 0.6101 - lr: 0.0010\n",
      "Epoch 20/100\n",
      "13/13 [==============================] - 0s 18ms/step - loss: 0.8288 - accuracy: 0.5948 - val_loss: 0.7717 - val_accuracy: 0.6101 - lr: 0.0010\n",
      "Epoch 21/100\n",
      "13/13 [==============================] - 0s 19ms/step - loss: 0.8273 - accuracy: 0.6031 - val_loss: 0.7695 - val_accuracy: 0.6101 - lr: 0.0010\n",
      "Epoch 22/100\n",
      "13/13 [==============================] - 0s 23ms/step - loss: 0.8313 - accuracy: 0.5945 - val_loss: 0.7683 - val_accuracy: 0.6083 - lr: 0.0010\n",
      "Epoch 23/100\n",
      "13/13 [==============================] - 0s 20ms/step - loss: 0.8302 - accuracy: 0.6028 - val_loss: 0.7667 - val_accuracy: 0.6101 - lr: 0.0010\n",
      "Epoch 24/100\n",
      "13/13 [==============================] - 0s 23ms/step - loss: 0.8217 - accuracy: 0.5985 - val_loss: 0.7660 - val_accuracy: 0.6083 - lr: 0.0010\n",
      "Epoch 25/100\n",
      "13/13 [==============================] - 0s 27ms/step - loss: 0.8228 - accuracy: 0.6012 - val_loss: 0.7649 - val_accuracy: 0.6101 - lr: 0.0010\n",
      "Epoch 26/100\n",
      "13/13 [==============================] - 0s 19ms/step - loss: 0.8268 - accuracy: 0.5942 - val_loss: 0.7641 - val_accuracy: 0.6101 - lr: 0.0010\n",
      "Epoch 27/100\n",
      "13/13 [==============================] - 0s 21ms/step - loss: 0.8178 - accuracy: 0.6074 - val_loss: 0.7652 - val_accuracy: 0.6083 - lr: 0.0010\n",
      "Epoch 28/100\n",
      "13/13 [==============================] - 0s 28ms/step - loss: 0.8154 - accuracy: 0.6092 - val_loss: 0.7629 - val_accuracy: 0.6101 - lr: 0.0010\n",
      "Epoch 29/100\n",
      "13/13 [==============================] - 0s 18ms/step - loss: 0.8150 - accuracy: 0.6028 - val_loss: 0.7628 - val_accuracy: 0.6101 - lr: 0.0010\n",
      "Epoch 30/100\n",
      "13/13 [==============================] - 0s 18ms/step - loss: 0.8179 - accuracy: 0.6000 - val_loss: 0.7616 - val_accuracy: 0.6101 - lr: 0.0010\n",
      "Epoch 31/100\n",
      "13/13 [==============================] - 0s 19ms/step - loss: 0.8131 - accuracy: 0.6067 - val_loss: 0.7617 - val_accuracy: 0.6101 - lr: 0.0010\n",
      "Epoch 32/100\n",
      "13/13 [==============================] - 0s 18ms/step - loss: 0.8175 - accuracy: 0.5991 - val_loss: 0.7623 - val_accuracy: 0.6101 - lr: 0.0010\n",
      "Epoch 33/100\n",
      "13/13 [==============================] - 0s 18ms/step - loss: 0.8151 - accuracy: 0.6049 - val_loss: 0.7618 - val_accuracy: 0.6101 - lr: 0.0010\n",
      "Epoch 34/100\n",
      "13/13 [==============================] - 0s 18ms/step - loss: 0.8089 - accuracy: 0.6061 - val_loss: 0.7617 - val_accuracy: 0.6101 - lr: 0.0010\n",
      "Epoch 35/100\n",
      "13/13 [==============================] - 0s 19ms/step - loss: 0.8169 - accuracy: 0.6086 - val_loss: 0.7611 - val_accuracy: 0.6101 - lr: 0.0010\n",
      "Epoch 36/100\n",
      "13/13 [==============================] - 0s 19ms/step - loss: 0.8127 - accuracy: 0.6095 - val_loss: 0.7617 - val_accuracy: 0.6101 - lr: 0.0010\n",
      "Epoch 37/100\n",
      "13/13 [==============================] - 0s 18ms/step - loss: 0.8106 - accuracy: 0.6101 - val_loss: 0.7603 - val_accuracy: 0.6101 - lr: 0.0010\n",
      "Epoch 38/100\n",
      "13/13 [==============================] - 0s 18ms/step - loss: 0.8146 - accuracy: 0.6107 - val_loss: 0.7604 - val_accuracy: 0.6101 - lr: 0.0010\n",
      "Epoch 39/100\n",
      "13/13 [==============================] - 0s 18ms/step - loss: 0.8120 - accuracy: 0.6070 - val_loss: 0.7616 - val_accuracy: 0.6101 - lr: 0.0010\n",
      "Epoch 40/100\n",
      "13/13 [==============================] - 0s 18ms/step - loss: 0.8120 - accuracy: 0.6080 - val_loss: 0.7603 - val_accuracy: 0.6101 - lr: 0.0010\n",
      "Epoch 41/100\n",
      "13/13 [==============================] - 0s 18ms/step - loss: 0.8113 - accuracy: 0.6095 - val_loss: 0.7592 - val_accuracy: 0.6101 - lr: 0.0010\n",
      "Epoch 42/100\n",
      "13/13 [==============================] - 0s 19ms/step - loss: 0.8089 - accuracy: 0.6058 - val_loss: 0.7604 - val_accuracy: 0.6101 - lr: 0.0010\n",
      "Epoch 43/100\n",
      "13/13 [==============================] - 0s 20ms/step - loss: 0.8129 - accuracy: 0.6083 - val_loss: 0.7582 - val_accuracy: 0.6118 - lr: 0.0010\n",
      "Epoch 44/100\n",
      "13/13 [==============================] - 0s 26ms/step - loss: 0.8076 - accuracy: 0.6138 - val_loss: 0.7602 - val_accuracy: 0.6101 - lr: 0.0010\n",
      "Epoch 45/100\n",
      "13/13 [==============================] - 0s 22ms/step - loss: 0.8047 - accuracy: 0.6132 - val_loss: 0.7593 - val_accuracy: 0.6101 - lr: 0.0010\n",
      "Epoch 46/100\n",
      "13/13 [==============================] - 0s 19ms/step - loss: 0.8063 - accuracy: 0.6104 - val_loss: 0.7594 - val_accuracy: 0.6101 - lr: 0.0010\n",
      "Epoch 47/100\n",
      "13/13 [==============================] - 0s 19ms/step - loss: 0.8094 - accuracy: 0.6101 - val_loss: 0.7593 - val_accuracy: 0.6101 - lr: 0.0010\n",
      "Epoch 48/100\n",
      "13/13 [==============================] - 0s 22ms/step - loss: 0.8072 - accuracy: 0.6095 - val_loss: 0.7598 - val_accuracy: 0.6101 - lr: 0.0010\n",
      "Epoch 49/100\n",
      "13/13 [==============================] - 0s 19ms/step - loss: 0.8087 - accuracy: 0.6123 - val_loss: 0.7605 - val_accuracy: 0.6101 - lr: 0.0010\n",
      "Epoch 50/100\n",
      "13/13 [==============================] - 0s 19ms/step - loss: 0.8086 - accuracy: 0.6135 - val_loss: 0.7590 - val_accuracy: 0.6101 - lr: 0.0010\n",
      "Epoch 51/100\n",
      "13/13 [==============================] - 0s 18ms/step - loss: 0.8121 - accuracy: 0.6141 - val_loss: 0.7592 - val_accuracy: 0.6101 - lr: 0.0010\n",
      "Epoch 52/100\n",
      "13/13 [==============================] - 0s 18ms/step - loss: 0.8023 - accuracy: 0.6126 - val_loss: 0.7593 - val_accuracy: 0.6101 - lr: 0.0010\n",
      "Epoch 53/100\n",
      "13/13 [==============================] - 0s 20ms/step - loss: 0.8028 - accuracy: 0.6144 - val_loss: 0.7577 - val_accuracy: 0.6101 - lr: 0.0010\n",
      "Epoch 54/100\n",
      "13/13 [==============================] - 0s 20ms/step - loss: 0.8026 - accuracy: 0.6126 - val_loss: 0.7588 - val_accuracy: 0.6101 - lr: 0.0010\n",
      "Epoch 55/100\n",
      "13/13 [==============================] - 0s 18ms/step - loss: 0.8051 - accuracy: 0.6138 - val_loss: 0.7592 - val_accuracy: 0.6101 - lr: 0.0010\n",
      "Epoch 56/100\n",
      "13/13 [==============================] - 0s 20ms/step - loss: 0.8043 - accuracy: 0.6153 - val_loss: 0.7580 - val_accuracy: 0.6101 - lr: 0.0010\n",
      "Epoch 57/100\n",
      "13/13 [==============================] - 0s 19ms/step - loss: 0.8069 - accuracy: 0.6107 - val_loss: 0.7574 - val_accuracy: 0.6101 - lr: 0.0010\n",
      "Epoch 58/100\n",
      "13/13 [==============================] - 0s 20ms/step - loss: 0.8106 - accuracy: 0.6116 - val_loss: 0.7595 - val_accuracy: 0.6101 - lr: 0.0010\n",
      "Epoch 59/100\n",
      "13/13 [==============================] - 0s 22ms/step - loss: 0.8086 - accuracy: 0.6104 - val_loss: 0.7578 - val_accuracy: 0.6101 - lr: 0.0010\n",
      "Epoch 60/100\n",
      "13/13 [==============================] - 0s 20ms/step - loss: 0.8062 - accuracy: 0.6132 - val_loss: 0.7577 - val_accuracy: 0.6101 - lr: 0.0010\n",
      "Epoch 61/100\n",
      "13/13 [==============================] - 0s 20ms/step - loss: 0.8031 - accuracy: 0.6141 - val_loss: 0.7572 - val_accuracy: 0.6101 - lr: 0.0010\n",
      "Epoch 62/100\n",
      "13/13 [==============================] - 0s 24ms/step - loss: 0.8027 - accuracy: 0.6135 - val_loss: 0.7576 - val_accuracy: 0.6101 - lr: 0.0010\n",
      "Epoch 63/100\n",
      "13/13 [==============================] - 0s 18ms/step - loss: 0.8100 - accuracy: 0.6119 - val_loss: 0.7599 - val_accuracy: 0.6083 - lr: 0.0010\n",
      "Epoch 64/100\n",
      "13/13 [==============================] - 0s 18ms/step - loss: 0.8075 - accuracy: 0.6144 - val_loss: 0.7590 - val_accuracy: 0.6101 - lr: 0.0010\n",
      "Epoch 65/100\n",
      "13/13 [==============================] - 0s 19ms/step - loss: 0.8032 - accuracy: 0.6141 - val_loss: 0.7577 - val_accuracy: 0.6101 - lr: 0.0010\n",
      "Epoch 66/100\n",
      "13/13 [==============================] - 0s 20ms/step - loss: 0.8046 - accuracy: 0.6132 - val_loss: 0.7581 - val_accuracy: 0.6101 - lr: 0.0010\n",
      "Epoch 67/100\n",
      "13/13 [==============================] - 0s 18ms/step - loss: 0.8050 - accuracy: 0.6141 - val_loss: 0.7594 - val_accuracy: 0.6101 - lr: 0.0010\n",
      "Epoch 68/100\n",
      "13/13 [==============================] - 0s 20ms/step - loss: 0.8021 - accuracy: 0.6132 - val_loss: 0.7577 - val_accuracy: 0.6101 - lr: 0.0010\n",
      "Epoch 69/100\n",
      "13/13 [==============================] - 0s 19ms/step - loss: 0.8068 - accuracy: 0.6123 - val_loss: 0.7571 - val_accuracy: 0.6101 - lr: 0.0010\n",
      "Epoch 70/100\n",
      "13/13 [==============================] - 0s 18ms/step - loss: 0.8060 - accuracy: 0.6138 - val_loss: 0.7585 - val_accuracy: 0.6101 - lr: 0.0010\n",
      "Epoch 71/100\n",
      "13/13 [==============================] - 0s 23ms/step - loss: 0.8115 - accuracy: 0.6132 - val_loss: 0.7582 - val_accuracy: 0.6170 - lr: 0.0010\n",
      "Epoch 72/100\n",
      "13/13 [==============================] - 0s 19ms/step - loss: 0.8057 - accuracy: 0.6135 - val_loss: 0.7577 - val_accuracy: 0.6101 - lr: 5.0000e-04\n",
      "Epoch 73/100\n",
      "13/13 [==============================] - 0s 24ms/step - loss: 0.8037 - accuracy: 0.6129 - val_loss: 0.7585 - val_accuracy: 0.6101 - lr: 5.0000e-04\n",
      "Epoch 74/100\n",
      "13/13 [==============================] - 0s 18ms/step - loss: 0.8020 - accuracy: 0.6129 - val_loss: 0.7583 - val_accuracy: 0.6101 - lr: 5.0000e-04\n",
      "Epoch 75/100\n",
      "13/13 [==============================] - 0s 23ms/step - loss: 0.8059 - accuracy: 0.6116 - val_loss: 0.7579 - val_accuracy: 0.6101 - lr: 5.0000e-04\n",
      "Epoch 76/100\n",
      "13/13 [==============================] - 0s 18ms/step - loss: 0.8056 - accuracy: 0.6147 - val_loss: 0.7590 - val_accuracy: 0.6101 - lr: 5.0000e-04\n",
      "Epoch 77/100\n",
      "13/13 [==============================] - 0s 18ms/step - loss: 0.8005 - accuracy: 0.6141 - val_loss: 0.7582 - val_accuracy: 0.6101 - lr: 5.0000e-04\n",
      "Epoch 78/100\n",
      "13/13 [==============================] - 0s 20ms/step - loss: 0.8034 - accuracy: 0.6138 - val_loss: 0.7594 - val_accuracy: 0.6101 - lr: 5.0000e-04\n",
      "Epoch 79/100\n",
      "13/13 [==============================] - 0s 18ms/step - loss: 0.8036 - accuracy: 0.6141 - val_loss: 0.7580 - val_accuracy: 0.6101 - lr: 5.0000e-04\n"
     ]
    }
   ],
   "source": [
    "shared_history = shared_model_fit(vec_train, shared, indexes, pre_index, MY_WORKSPACE_DIR, batch_size, epochs, args)"
   ]
  },
  {
   "cell_type": "code",
   "execution_count": 29,
   "metadata": {},
   "outputs": [
    {
     "data": {
      "image/png": "[encoded data removed]",
      "text/plain": [
       "<Figure size 640x480 with 1 Axes>"
      ]
     },
     "metadata": {},
     "output_type": "display_data"
    }
   ],
   "source": [
    "plot_shared(shared_history)"
   ]
  },
  {
   "cell_type": "code",
   "execution_count": 30,
   "metadata": {},
   "outputs": [
    {
     "name": "stderr",
     "output_type": "stream",
     "text": [
      "c:\\Users\\20182009\\Documents\\Master DSAI\\y2 q1\\2IMI00 seminar process analytics\\replicationStudy\\.venv\\lib\\site-packages\\keras\\src\\engine\\training.py:3079: UserWarning: You are saving your model as an HDF5 file via `model.save()`. This file format is considered legacy. We recommend using instead the native Keras format, e.g. `model.save('my_model.keras')`.\n",
      "  saving_api.save_model(\n"
     ]
    }
   ],
   "source": [
    "trained_model = os.path.join(os.path.join(MILESTONE_DIR, 'trained_models'),'shared_model.h5')\n",
    "shared.save(trained_model)"
   ]
  },
  {
   "cell_type": "markdown",
   "metadata": {},
   "source": [
    "##### Load Saved Model and Evaluate"
   ]
  },
  {
   "cell_type": "code",
   "execution_count": 31,
   "metadata": {},
   "outputs": [],
   "source": [
    "shared_trained_model = os.path.join(os.path.join(MILESTONE_DIR, 'trained_models'),'shared_model.h5')\n",
    "shared_model = load_model(shared_trained_model)"
   ]
  },
  {
   "cell_type": "code",
   "execution_count": 32,
   "metadata": {},
   "outputs": [
    {
     "name": "stdout",
     "output_type": "stream",
     "text": [
      "Evaluate on test data\n",
      "17/17 [==============================] - 1s 5ms/step - loss: 0.8321 - accuracy: 0.5896\n",
      "52/52 [==============================] - 1s 3ms/step\n",
      "test loss, test acc: [0.8320750594139099, 0.5895567536354065]\n"
     ]
    }
   ],
   "source": [
    "x_test,y_test = generate_inputs_shared(vec_test,args,indexes)\n",
    "\n",
    "print(\"Evaluate on test data\")\n",
    "\n",
    "results = shared_model.evaluate(x_test, y_test, batch_size=100)\n",
    "y_pred_shared = shared_model.predict(x_test)\n",
    "print(\"test loss, test acc:\", results)"
   ]
  },
  {
   "cell_type": "markdown",
   "metadata": {},
   "source": [
    "Classification Report"
   ]
  },
  {
   "cell_type": "code",
   "execution_count": 33,
   "metadata": {},
   "outputs": [
    {
     "name": "stdout",
     "output_type": "stream",
     "text": [
      "                                                  precision    recall  f1-score   support\n",
      "\n",
      "    Request For Payment APPROVED by BUDGET OWNER       0.85      0.02      0.03       626\n",
      "      Request For Payment APPROVED by SUPERVISOR       0.00      0.00      0.00         6\n",
      "Request For Payment FINAL_APPROVED by SUPERVISOR       0.59      1.00      0.74       962\n",
      "    Request For Payment REJECTED by BUDGET OWNER       0.00      0.00      0.00        13\n",
      "      Request For Payment REJECTED by SUPERVISOR       0.00      0.00      0.00        40\n",
      "\n",
      "                                        accuracy                           0.59      1647\n",
      "                                       macro avg       0.29      0.20      0.15      1647\n",
      "                                    weighted avg       0.66      0.59      0.45      1647\n",
      "\n"
     ]
    },
    {
     "name": "stderr",
     "output_type": "stream",
     "text": [
      "c:\\Users\\20182009\\Documents\\Master DSAI\\y2 q1\\2IMI00 seminar process analytics\\replicationStudy\\.venv\\lib\\site-packages\\sklearn\\metrics\\_classification.py:1469: UndefinedMetricWarning: Precision and F-score are ill-defined and being set to 0.0 in labels with no predicted samples. Use `zero_division` parameter to control this behavior.\n",
      "  _warn_prf(average, modifier, msg_start, len(result))\n",
      "c:\\Users\\20182009\\Documents\\Master DSAI\\y2 q1\\2IMI00 seminar process analytics\\replicationStudy\\.venv\\lib\\site-packages\\sklearn\\metrics\\_classification.py:1469: UndefinedMetricWarning: Precision and F-score are ill-defined and being set to 0.0 in labels with no predicted samples. Use `zero_division` parameter to control this behavior.\n",
      "  _warn_prf(average, modifier, msg_start, len(result))\n",
      "c:\\Users\\20182009\\Documents\\Master DSAI\\y2 q1\\2IMI00 seminar process analytics\\replicationStudy\\.venv\\lib\\site-packages\\sklearn\\metrics\\_classification.py:1469: UndefinedMetricWarning: Precision and F-score are ill-defined and being set to 0.0 in labels with no predicted samples. Use `zero_division` parameter to control this behavior.\n",
      "  _warn_prf(average, modifier, msg_start, len(result))\n"
     ]
    }
   ],
   "source": [
    "target_names = [index_ne[i] for i in range(len(index_ne))]\n",
    "\n",
    "print(classification_report(y_test.argmax(axis=1), y_pred_shared.argmax(axis=1), target_names=target_names))"
   ]
  },
  {
   "cell_type": "markdown",
   "metadata": {},
   "source": [
    "Confusion Matrix"
   ]
  },
  {
   "cell_type": "code",
   "execution_count": 34,
   "metadata": {},
   "outputs": [
    {
     "name": "stdout",
     "output_type": "stream",
     "text": [
      "[[ 11   0 615   0   0]\n",
      " [  0   0   6   0   0]\n",
      " [  2   0 960   0   0]\n",
      " [  0   0  13   0   0]\n",
      " [  0   0  40   0   0]]\n"
     ]
    },
    {
     "data": {
      "text/plain": [
       "<Axes: >"
      ]
     },
     "execution_count": 34,
     "metadata": {},
     "output_type": "execute_result"
    },
    {
     "data": {
      "image/png": "[encoded data removed]",
      "text/plain": [
       "<Figure size 1000x700 with 2 Axes>"
      ]
     },
     "metadata": {},
     "output_type": "display_data"
    }
   ],
   "source": [
    "matrix = confusion_matrix(y_test.argmax(axis=1), y_pred_shared.argmax(axis=1))\n",
    "print(matrix)\n",
    "matrix_sum = np.sum(matrix, axis=1).reshape(-1,1)\n",
    "matrix_perc = matrix / matrix_sum\n",
    "df_cm = pd.DataFrame(matrix_perc, index = [index_ne[i] for i in range(len(index_ne))],\n",
    "                  columns = [index_ne[i] for i in range(len(index_ne))])\n",
    "\n",
    "plt.figure(figsize = (10,7))\n",
    "sn.heatmap(df_cm, annot=True)"
   ]
  },
  {
   "cell_type": "markdown",
   "metadata": {},
   "source": [
    "##### Generating Explanations with Attention Layer"
   ]
  },
  {
   "cell_type": "code",
   "execution_count": 35,
   "metadata": {},
   "outputs": [
    {
     "name": "stdout",
     "output_type": "stream",
     "text": [
      "52/52 [==============================] - 1s 4ms/step\n"
     ]
    }
   ],
   "source": [
    "shared_model_attn_weights = Model(inputs=shared_model.input,\n",
    "              outputs=[shared_model.output, shared_model.get_layer('timestep_attention').output, shared_model.get_layer('feature_importance').output])\n",
    "\n",
    "shared_output_with_attention = shared_model_attn_weights.predict(x_test)"
   ]
  },
  {
   "cell_type": "code",
   "execution_count": 36,
   "metadata": {},
   "outputs": [
    {
     "data": {
      "text/plain": [
       "(1647, 5, 14)"
      ]
     },
     "execution_count": 36,
     "metadata": {},
     "output_type": "execute_result"
    }
   ],
   "source": [
    "shared_output_with_attention[2].shape"
   ]
  },
  {
   "cell_type": "markdown",
   "metadata": {},
   "source": [
    "### Global Explanations"
   ]
  },
  {
   "cell_type": "code",
   "execution_count": 37,
   "metadata": {},
   "outputs": [
    {
     "data": {
      "application/vnd.plotly.v1+json": {
       "config": {
        "plotlyServerURL": "https://plot.ly"
       },
       "data": [
        {
         "alignmentgroup": "True",
         "hovertemplate": "feature_category=activity<br>timestep=%{x}<br>Feature Contribution in key timesteps=%{y}<br>feature=%{text}<extra></extra>",
         "legendgroup": "activity",
         "marker": {
          "color": "darkcyan",
          "pattern": {
           "shape": ""
          }
         },
         "name": "activity",
         "offsetgroup": "activity",
         "orientation": "v",
         "showlegend": true,
         "text": [
          "Request For Payment SUBMITTED by EMPLOYEE",
          "Request For Payment APPROVED by ADMINISTRATION",
          "none",
          "none",
          "none"
         ],
         "textangle": 90,
         "textfont": {
          "size": 14
         },
         "textposition": "auto",
         "type": "bar",
         "x": [
          5,
          4,
          3,
          2,
          1
         ],
         "xaxis": "x",
         "y": [
          0.5435052829569393,
          0.06372818079314646,
          0.00015903232292100236,
          null,
          null
         ],
         "yaxis": "y"
        },
        {
         "alignmentgroup": "True",
         "hovertemplate": "feature_category=role<br>timestep=%{x}<br>Feature Contribution in key timesteps=%{y}<br>feature=%{text}<extra></extra>",
         "legendgroup": "role",
         "marker": {
          "color": "darkslateblue",
          "pattern": {
           "shape": ""
          }
         },
         "name": "role",
         "offsetgroup": "role",
         "orientation": "v",
         "showlegend": true,
         "text": [
          "EMPLOYEE",
          "ADMINISTRATION",
          "none",
          "none",
          "none"
         ],
         "textangle": 90,
         "textfont": {
          "size": 14
         },
         "textposition": "auto",
         "type": "bar",
         "x": [
          5,
          4,
          3,
          2,
          1
         ],
         "xaxis": "x",
         "y": [
          0.6262602799033132,
          0.0675588473805746,
          0.00015415746512735355,
          null,
          null
         ],
         "yaxis": "y"
        },
        {
         "alignmentgroup": "True",
         "hovertemplate": "feature_category=time_lapsed<br>timestep=%{x}<br>Feature Contribution in key timesteps=%{y}<br>feature=%{text}<extra></extra>",
         "legendgroup": "time_lapsed",
         "marker": {
          "color": "lightslategray",
          "pattern": {
           "shape": ""
          }
         },
         "name": "time_lapsed",
         "offsetgroup": "time_lapsed",
         "orientation": "v",
         "showlegend": true,
         "text": [
          "t_lapsed",
          "t_lapsed",
          "t_lapsed",
          "t_lapsed",
          "t_lapsed"
         ],
         "textangle": 90,
         "textfont": {
          "size": 14
         },
         "textposition": "auto",
         "type": "bar",
         "x": [
          5,
          4,
          3,
          2,
          1
         ],
         "xaxis": "x",
         "y": [
          0.02388851420843352,
          0.013436480319380995,
          0.00001206883886478347,
          null,
          null
         ],
         "yaxis": "y"
        }
       ],
       "layout": {
        "bargap": 0.01,
        "barmode": "group",
        "height": 600,
        "legend": {
         "title": {
          "text": "feature_category"
         },
         "tracegroupgap": 0
        },
        "plot_bgcolor": "rgb(182,182,184)",
        "template": {
         "data": {
          "bar": [
           {
            "error_x": {
             "color": "#2a3f5f"
            },
            "error_y": {
             "color": "#2a3f5f"
            },
            "marker": {
             "line": {
              "color": "#E5ECF6",
              "width": 0.5
             },
             "pattern": {
              "fillmode": "overlay",
              "size": 10,
              "solidity": 0.2
             }
            },
            "type": "bar"
           }
          ],
          "barpolar": [
           {
            "marker": {
             "line": {
              "color": "#E5ECF6",
              "width": 0.5
             },
             "pattern": {
              "fillmode": "overlay",
              "size": 10,
              "solidity": 0.2
             }
            },
            "type": "barpolar"
           }
          ],
          "carpet": [
           {
            "aaxis": {
             "endlinecolor": "#2a3f5f",
             "gridcolor": "white",
             "linecolor": "white",
             "minorgridcolor": "white",
             "startlinecolor": "#2a3f5f"
            },
            "baxis": {
             "endlinecolor": "#2a3f5f",
             "gridcolor": "white",
             "linecolor": "white",
             "minorgridcolor": "white",
             "startlinecolor": "#2a3f5f"
            },
            "type": "carpet"
           }
          ],
          "choropleth": [
           {
            "colorbar": {
             "outlinewidth": 0,
             "ticks": ""
            },
            "type": "choropleth"
           }
          ],
          "contour": [
           {
            "colorbar": {
             "outlinewidth": 0,
             "ticks": ""
            },
            "colorscale": [
             [
              0,
              "#0d0887"
             ],
             [
              0.1111111111111111,
              "#46039f"
             ],
             [
              0.2222222222222222,
              "#7201a8"
             ],
             [
              0.3333333333333333,
              "#9c179e"
             ],
             [
              0.4444444444444444,
              "#bd3786"
             ],
             [
              0.5555555555555556,
              "#d8576b"
             ],
             [
              0.6666666666666666,
              "#ed7953"
             ],
             [
              0.7777777777777778,
              "#fb9f3a"
             ],
             [
              0.8888888888888888,
              "#fdca26"
             ],
             [
              1,
              "#f0f921"
             ]
            ],
            "type": "contour"
           }
          ],
          "contourcarpet": [
           {
            "colorbar": {
             "outlinewidth": 0,
             "ticks": ""
            },
            "type": "contourcarpet"
           }
          ],
          "heatmap": [
           {
            "colorbar": {
             "outlinewidth": 0,
             "ticks": ""
            },
            "colorscale": [
             [
              0,
              "#0d0887"
             ],
             [
              0.1111111111111111,
              "#46039f"
             ],
             [
              0.2222222222222222,
              "#7201a8"
             ],
             [
              0.3333333333333333,
              "#9c179e"
             ],
             [
              0.4444444444444444,
              "#bd3786"
             ],
             [
              0.5555555555555556,
              "#d8576b"
             ],
             [
              0.6666666666666666,
              "#ed7953"
             ],
             [
              0.7777777777777778,
              "#fb9f3a"
             ],
             [
              0.8888888888888888,
              "#fdca26"
             ],
             [
              1,
              "#f0f921"
             ]
            ],
            "type": "heatmap"
           }
          ],
          "heatmapgl": [
           {
            "colorbar": {
             "outlinewidth": 0,
             "ticks": ""
            },
            "colorscale": [
             [
              0,
              "#0d0887"
             ],
             [
              0.1111111111111111,
              "#46039f"
             ],
             [
              0.2222222222222222,
              "#7201a8"
             ],
             [
              0.3333333333333333,
              "#9c179e"
             ],
             [
              0.4444444444444444,
              "#bd3786"
             ],
             [
              0.5555555555555556,
              "#d8576b"
             ],
             [
              0.6666666666666666,
              "#ed7953"
             ],
             [
              0.7777777777777778,
              "#fb9f3a"
             ],
             [
              0.8888888888888888,
              "#fdca26"
             ],
             [
              1,
              "#f0f921"
             ]
            ],
            "type": "heatmapgl"
           }
          ],
          "histogram": [
           {
            "marker": {
             "pattern": {
              "fillmode": "overlay",
              "size": 10,
              "solidity": 0.2
             }
            },
            "type": "histogram"
           }
          ],
          "histogram2d": [
           {
            "colorbar": {
             "outlinewidth": 0,
             "ticks": ""
            },
            "colorscale": [
             [
              0,
              "#0d0887"
             ],
             [
              0.1111111111111111,
              "#46039f"
             ],
             [
              0.2222222222222222,
              "#7201a8"
             ],
             [
              0.3333333333333333,
              "#9c179e"
             ],
             [
              0.4444444444444444,
              "#bd3786"
             ],
             [
              0.5555555555555556,
              "#d8576b"
             ],
             [
              0.6666666666666666,
              "#ed7953"
             ],
             [
              0.7777777777777778,
              "#fb9f3a"
             ],
             [
              0.8888888888888888,
              "#fdca26"
             ],
             [
              1,
              "#f0f921"
             ]
            ],
            "type": "histogram2d"
           }
          ],
          "histogram2dcontour": [
           {
            "colorbar": {
             "outlinewidth": 0,
             "ticks": ""
            },
            "colorscale": [
             [
              0,
              "#0d0887"
             ],
             [
              0.1111111111111111,
              "#46039f"
             ],
             [
              0.2222222222222222,
              "#7201a8"
             ],
             [
              0.3333333333333333,
              "#9c179e"
             ],
             [
              0.4444444444444444,
              "#bd3786"
             ],
             [
              0.5555555555555556,
              "#d8576b"
             ],
             [
              0.6666666666666666,
              "#ed7953"
             ],
             [
              0.7777777777777778,
              "#fb9f3a"
             ],
             [
              0.8888888888888888,
              "#fdca26"
             ],
             [
              1,
              "#f0f921"
             ]
            ],
            "type": "histogram2dcontour"
           }
          ],
          "mesh3d": [
           {
            "colorbar": {
             "outlinewidth": 0,
             "ticks": ""
            },
            "type": "mesh3d"
           }
          ],
          "parcoords": [
           {
            "line": {
             "colorbar": {
              "outlinewidth": 0,
              "ticks": ""
             }
            },
            "type": "parcoords"
           }
          ],
          "pie": [
           {
            "automargin": true,
            "type": "pie"
           }
          ],
          "scatter": [
           {
            "fillpattern": {
             "fillmode": "overlay",
             "size": 10,
             "solidity": 0.2
            },
            "type": "scatter"
           }
          ],
          "scatter3d": [
           {
            "line": {
             "colorbar": {
              "outlinewidth": 0,
              "ticks": ""
             }
            },
            "marker": {
             "colorbar": {
              "outlinewidth": 0,
              "ticks": ""
             }
            },
            "type": "scatter3d"
           }
          ],
          "scattercarpet": [
           {
            "marker": {
             "colorbar": {
              "outlinewidth": 0,
              "ticks": ""
             }
            },
            "type": "scattercarpet"
           }
          ],
          "scattergeo": [
           {
            "marker": {
             "colorbar": {
              "outlinewidth": 0,
              "ticks": ""
             }
            },
            "type": "scattergeo"
           }
          ],
          "scattergl": [
           {
            "marker": {
             "colorbar": {
              "outlinewidth": 0,
              "ticks": ""
             }
            },
            "type": "scattergl"
           }
          ],
          "scattermapbox": [
           {
            "marker": {
             "colorbar": {
              "outlinewidth": 0,
              "ticks": ""
             }
            },
            "type": "scattermapbox"
           }
          ],
          "scatterpolar": [
           {
            "marker": {
             "colorbar": {
              "outlinewidth": 0,
              "ticks": ""
             }
            },
            "type": "scatterpolar"
           }
          ],
          "scatterpolargl": [
           {
            "marker": {
             "colorbar": {
              "outlinewidth": 0,
              "ticks": ""
             }
            },
            "type": "scatterpolargl"
           }
          ],
          "scatterternary": [
           {
            "marker": {
             "colorbar": {
              "outlinewidth": 0,
              "ticks": ""
             }
            },
            "type": "scatterternary"
           }
          ],
          "surface": [
           {
            "colorbar": {
             "outlinewidth": 0,
             "ticks": ""
            },
            "colorscale": [
             [
              0,
              "#0d0887"
             ],
             [
              0.1111111111111111,
              "#46039f"
             ],
             [
              0.2222222222222222,
              "#7201a8"
             ],
             [
              0.3333333333333333,
              "#9c179e"
             ],
             [
              0.4444444444444444,
              "#bd3786"
             ],
             [
              0.5555555555555556,
              "#d8576b"
             ],
             [
              0.6666666666666666,
              "#ed7953"
             ],
             [
              0.7777777777777778,
              "#fb9f3a"
             ],
             [
              0.8888888888888888,
              "#fdca26"
             ],
             [
              1,
              "#f0f921"
             ]
            ],
            "type": "surface"
           }
          ],
          "table": [
           {
            "cells": {
             "fill": {
              "color": "#EBF0F8"
             },
             "line": {
              "color": "white"
             }
            },
            "header": {
             "fill": {
              "color": "#C8D4E3"
             },
             "line": {
              "color": "white"
             }
            },
            "type": "table"
           }
          ]
         },
         "layout": {
          "annotationdefaults": {
           "arrowcolor": "#2a3f5f",
           "arrowhead": 0,
           "arrowwidth": 1
          },
          "autotypenumbers": "strict",
          "coloraxis": {
           "colorbar": {
            "outlinewidth": 0,
            "ticks": ""
           }
          },
          "colorscale": {
           "diverging": [
            [
             0,
             "#8e0152"
            ],
            [
             0.1,
             "#c51b7d"
            ],
            [
             0.2,
             "#de77ae"
            ],
            [
             0.3,
             "#f1b6da"
            ],
            [
             0.4,
             "#fde0ef"
            ],
            [
             0.5,
             "#f7f7f7"
            ],
            [
             0.6,
             "#e6f5d0"
            ],
            [
             0.7,
             "#b8e186"
            ],
            [
             0.8,
             "#7fbc41"
            ],
            [
             0.9,
             "#4d9221"
            ],
            [
             1,
             "#276419"
            ]
           ],
           "sequential": [
            [
             0,
             "#0d0887"
            ],
            [
             0.1111111111111111,
             "#46039f"
            ],
            [
             0.2222222222222222,
             "#7201a8"
            ],
            [
             0.3333333333333333,
             "#9c179e"
            ],
            [
             0.4444444444444444,
             "#bd3786"
            ],
            [
             0.5555555555555556,
             "#d8576b"
            ],
            [
             0.6666666666666666,
             "#ed7953"
            ],
            [
             0.7777777777777778,
             "#fb9f3a"
            ],
            [
             0.8888888888888888,
             "#fdca26"
            ],
            [
             1,
             "#f0f921"
            ]
           ],
           "sequentialminus": [
            [
             0,
             "#0d0887"
            ],
            [
             0.1111111111111111,
             "#46039f"
            ],
            [
             0.2222222222222222,
             "#7201a8"
            ],
            [
             0.3333333333333333,
             "#9c179e"
            ],
            [
             0.4444444444444444,
             "#bd3786"
            ],
            [
             0.5555555555555556,
             "#d8576b"
            ],
            [
             0.6666666666666666,
             "#ed7953"
            ],
            [
             0.7777777777777778,
             "#fb9f3a"
            ],
            [
             0.8888888888888888,
             "#fdca26"
            ],
            [
             1,
             "#f0f921"
            ]
           ]
          },
          "colorway": [
           "#636efa",
           "#EF553B",
           "#00cc96",
           "#ab63fa",
           "#FFA15A",
           "#19d3f3",
           "#FF6692",
           "#B6E880",
           "#FF97FF",
           "#FECB52"
          ],
          "font": {
           "color": "#2a3f5f"
          },
          "geo": {
           "bgcolor": "white",
           "lakecolor": "white",
           "landcolor": "#E5ECF6",
           "showlakes": true,
           "showland": true,
           "subunitcolor": "white"
          },
          "hoverlabel": {
           "align": "left"
          },
          "hovermode": "closest",
          "mapbox": {
           "style": "light"
          },
          "paper_bgcolor": "white",
          "plot_bgcolor": "#E5ECF6",
          "polar": {
           "angularaxis": {
            "gridcolor": "white",
            "linecolor": "white",
            "ticks": ""
           },
           "bgcolor": "#E5ECF6",
           "radialaxis": {
            "gridcolor": "white",
            "linecolor": "white",
            "ticks": ""
           }
          },
          "scene": {
           "xaxis": {
            "backgroundcolor": "#E5ECF6",
            "gridcolor": "white",
            "gridwidth": 2,
            "linecolor": "white",
            "showbackground": true,
            "ticks": "",
            "zerolinecolor": "white"
           },
           "yaxis": {
            "backgroundcolor": "#E5ECF6",
            "gridcolor": "white",
            "gridwidth": 2,
            "linecolor": "white",
            "showbackground": true,
            "ticks": "",
            "zerolinecolor": "white"
           },
           "zaxis": {
            "backgroundcolor": "#E5ECF6",
            "gridcolor": "white",
            "gridwidth": 2,
            "linecolor": "white",
            "showbackground": true,
            "ticks": "",
            "zerolinecolor": "white"
           }
          },
          "shapedefaults": {
           "line": {
            "color": "#2a3f5f"
           }
          },
          "ternary": {
           "aaxis": {
            "gridcolor": "white",
            "linecolor": "white",
            "ticks": ""
           },
           "baxis": {
            "gridcolor": "white",
            "linecolor": "white",
            "ticks": ""
           },
           "bgcolor": "#E5ECF6",
           "caxis": {
            "gridcolor": "white",
            "linecolor": "white",
            "ticks": ""
           }
          },
          "title": {
           "x": 0.05
          },
          "xaxis": {
           "automargin": true,
           "gridcolor": "white",
           "linecolor": "white",
           "ticks": "",
           "title": {
            "standoff": 15
           },
           "zerolinecolor": "white",
           "zerolinewidth": 2
          },
          "yaxis": {
           "automargin": true,
           "gridcolor": "white",
           "linecolor": "white",
           "ticks": "",
           "title": {
            "standoff": 15
           },
           "zerolinecolor": "white",
           "zerolinewidth": 2
          }
         }
        },
        "title": {
         "text": "Feature Contribution"
        },
        "uniformtext": {
         "minsize": 14,
         "mode": "show"
        },
        "width": 1000,
        "xaxis": {
         "anchor": "y",
         "domain": [
          0,
          1
         ],
         "title": {
          "text": "timestep"
         }
        },
        "yaxis": {
         "anchor": "x",
         "domain": [
          0,
          1
         ],
         "title": {
          "text": "Feature Contribution in key timesteps"
         }
        }
       }
      }
     },
     "metadata": {},
     "output_type": "display_data"
    }
   ],
   "source": [
    "shared_explain_global(shared_output_with_attention,x_test,y_test,index_ac,index_rl,3,prediction = 2 )"
   ]
  },
  {
   "cell_type": "markdown",
   "metadata": {},
   "source": [
    "### Local Explanations"
   ]
  },
  {
   "cell_type": "code",
   "execution_count": 38,
   "metadata": {},
   "outputs": [
    {
     "data": {
      "text/html": [
       "<div>\n",
       "<style scoped>\n",
       "    .dataframe tbody tr th:only-of-type {\n",
       "        vertical-align: middle;\n",
       "    }\n",
       "\n",
       "    .dataframe tbody tr th {\n",
       "        vertical-align: top;\n",
       "    }\n",
       "\n",
       "    .dataframe thead th {\n",
       "        text-align: right;\n",
       "    }\n",
       "</style>\n",
       "<table border=\"1\" class=\"dataframe\">\n",
       "  <thead>\n",
       "    <tr style=\"text-align: right;\">\n",
       "      <th></th>\n",
       "      <th>sample_index</th>\n",
       "      <th>prediction</th>\n",
       "      <th>ground_truth</th>\n",
       "      <th>prediction_prob</th>\n",
       "      <th>pred_class</th>\n",
       "    </tr>\n",
       "  </thead>\n",
       "  <tbody>\n",
       "  </tbody>\n",
       "</table>\n",
       "</div>"
      ],
      "text/plain": [
       "Empty DataFrame\n",
       "Columns: [sample_index, prediction, ground_truth, prediction_prob, pred_class]\n",
       "Index: []"
      ]
     },
     "execution_count": 38,
     "metadata": {},
     "output_type": "execute_result"
    }
   ],
   "source": [
    "df_results_shared = results_df(y_test,y_pred_shared,index_ne)\n",
    "df_results_shared [(df_results_shared ['prediction'] == 'O_SENT_BACK') & (df_results_shared ['pred_class'] == False) & (df_results_shared ['prediction_prob'] >=0.7) ].head(3)"
   ]
  },
  {
   "cell_type": "code",
   "execution_count": 39,
   "metadata": {},
   "outputs": [
    {
     "name": "stdout",
     "output_type": "stream",
     "text": [
      "prediction: Request For Payment FINAL_APPROVED by SUPERVISOR\n",
      "ground truth: Request For Payment FINAL_APPROVED by SUPERVISOR\n",
      "prediction probability:0.6109\n"
     ]
    },
    {
     "data": {
      "application/vnd.plotly.v1+json": {
       "config": {
        "plotlyServerURL": "https://plot.ly"
       },
       "data": [
        {
         "alignmentgroup": "True",
         "hovertemplate": "feature_category=activity<br>timestep=%{x}<br>Feature Contribution in key timesteps=%{y}<br>feature=%{text}<extra></extra>",
         "legendgroup": "activity",
         "marker": {
          "color": "darkcyan",
          "pattern": {
           "shape": ""
          }
         },
         "name": "activity",
         "offsetgroup": "activity",
         "orientation": "v",
         "showlegend": true,
         "text": [
          "Request For Payment SUBMITTED by EMPLOYEE",
          "Request For Payment APPROVED by ADMINISTRATION",
          "none",
          "none",
          "none"
         ],
         "textangle": 90,
         "textfont": {
          "size": 14
         },
         "textposition": "auto",
         "type": "bar",
         "x": [
          5,
          4,
          3,
          2,
          1
         ],
         "xaxis": "x",
         "y": [
          0.6300409679954413,
          0.0663711944142844,
          1.4477959028025075e-7,
          null,
          null
         ],
         "yaxis": "y"
        },
        {
         "alignmentgroup": "True",
         "hovertemplate": "feature_category=role<br>timestep=%{x}<br>Feature Contribution in key timesteps=%{y}<br>feature=%{text}<extra></extra>",
         "legendgroup": "role",
         "marker": {
          "color": "darkslateblue",
          "pattern": {
           "shape": ""
          }
         },
         "name": "role",
         "offsetgroup": "role",
         "orientation": "v",
         "showlegend": true,
         "text": [
          "EMPLOYEE",
          "ADMINISTRATION",
          "none",
          "none",
          "none"
         ],
         "textangle": 90,
         "textfont": {
          "size": 14
         },
         "textposition": "auto",
         "type": "bar",
         "x": [
          5,
          4,
          3,
          2,
          1
         ],
         "xaxis": "x",
         "y": [
          0.7140372323038093,
          0.07043629187504141,
          1.3986936604262119e-7,
          null,
          null
         ],
         "yaxis": "y"
        },
        {
         "alignmentgroup": "True",
         "hovertemplate": "feature_category=time_lapsed<br>timestep=%{x}<br>Feature Contribution in key timesteps=%{y}<br>feature=%{text}<extra></extra>",
         "legendgroup": "time_lapsed",
         "marker": {
          "color": "lightslategray",
          "pattern": {
           "shape": ""
          }
         },
         "name": "time_lapsed",
         "offsetgroup": "time_lapsed",
         "orientation": "v",
         "showlegend": true,
         "text": [
          "t_lapsed",
          "t_lapsed",
          "t_lapsed",
          "t_lapsed",
          "t_lapsed"
         ],
         "textangle": 90,
         "textfont": {
          "size": 14
         },
         "textposition": "auto",
         "type": "bar",
         "x": [
          5,
          4,
          3,
          2,
          1
         ],
         "xaxis": "x",
         "y": [
          0.02257769370601892,
          0.017303076297511155,
          null,
          null,
          null
         ],
         "yaxis": "y"
        }
       ],
       "layout": {
        "bargap": 0.05,
        "barmode": "group",
        "height": 600,
        "legend": {
         "title": {
          "text": "feature_category"
         },
         "tracegroupgap": 0
        },
        "plot_bgcolor": "rgb(182,182,184)",
        "template": {
         "data": {
          "bar": [
           {
            "error_x": {
             "color": "#2a3f5f"
            },
            "error_y": {
             "color": "#2a3f5f"
            },
            "marker": {
             "line": {
              "color": "#E5ECF6",
              "width": 0.5
             },
             "pattern": {
              "fillmode": "overlay",
              "size": 10,
              "solidity": 0.2
             }
            },
            "type": "bar"
           }
          ],
          "barpolar": [
           {
            "marker": {
             "line": {
              "color": "#E5ECF6",
              "width": 0.5
             },
             "pattern": {
              "fillmode": "overlay",
              "size": 10,
              "solidity": 0.2
             }
            },
            "type": "barpolar"
           }
          ],
          "carpet": [
           {
            "aaxis": {
             "endlinecolor": "#2a3f5f",
             "gridcolor": "white",
             "linecolor": "white",
             "minorgridcolor": "white",
             "startlinecolor": "#2a3f5f"
            },
            "baxis": {
             "endlinecolor": "#2a3f5f",
             "gridcolor": "white",
             "linecolor": "white",
             "minorgridcolor": "white",
             "startlinecolor": "#2a3f5f"
            },
            "type": "carpet"
           }
          ],
          "choropleth": [
           {
            "colorbar": {
             "outlinewidth": 0,
             "ticks": ""
            },
            "type": "choropleth"
           }
          ],
          "contour": [
           {
            "colorbar": {
             "outlinewidth": 0,
             "ticks": ""
            },
            "colorscale": [
             [
              0,
              "#0d0887"
             ],
             [
              0.1111111111111111,
              "#46039f"
             ],
             [
              0.2222222222222222,
              "#7201a8"
             ],
             [
              0.3333333333333333,
              "#9c179e"
             ],
             [
              0.4444444444444444,
              "#bd3786"
             ],
             [
              0.5555555555555556,
              "#d8576b"
             ],
             [
              0.6666666666666666,
              "#ed7953"
             ],
             [
              0.7777777777777778,
              "#fb9f3a"
             ],
             [
              0.8888888888888888,
              "#fdca26"
             ],
             [
              1,
              "#f0f921"
             ]
            ],
            "type": "contour"
           }
          ],
          "contourcarpet": [
           {
            "colorbar": {
             "outlinewidth": 0,
             "ticks": ""
            },
            "type": "contourcarpet"
           }
          ],
          "heatmap": [
           {
            "colorbar": {
             "outlinewidth": 0,
             "ticks": ""
            },
            "colorscale": [
             [
              0,
              "#0d0887"
             ],
             [
              0.1111111111111111,
              "#46039f"
             ],
             [
              0.2222222222222222,
              "#7201a8"
             ],
             [
              0.3333333333333333,
              "#9c179e"
             ],
             [
              0.4444444444444444,
              "#bd3786"
             ],
             [
              0.5555555555555556,
              "#d8576b"
             ],
             [
              0.6666666666666666,
              "#ed7953"
             ],
             [
              0.7777777777777778,
              "#fb9f3a"
             ],
             [
              0.8888888888888888,
              "#fdca26"
             ],
             [
              1,
              "#f0f921"
             ]
            ],
            "type": "heatmap"
           }
          ],
          "heatmapgl": [
           {
            "colorbar": {
             "outlinewidth": 0,
             "ticks": ""
            },
            "colorscale": [
             [
              0,
              "#0d0887"
             ],
             [
              0.1111111111111111,
              "#46039f"
             ],
             [
              0.2222222222222222,
              "#7201a8"
             ],
             [
              0.3333333333333333,
              "#9c179e"
             ],
             [
              0.4444444444444444,
              "#bd3786"
             ],
             [
              0.5555555555555556,
              "#d8576b"
             ],
             [
              0.6666666666666666,
              "#ed7953"
             ],
             [
              0.7777777777777778,
              "#fb9f3a"
             ],
             [
              0.8888888888888888,
              "#fdca26"
             ],
             [
              1,
              "#f0f921"
             ]
            ],
            "type": "heatmapgl"
           }
          ],
          "histogram": [
           {
            "marker": {
             "pattern": {
              "fillmode": "overlay",
              "size": 10,
              "solidity": 0.2
             }
            },
            "type": "histogram"
           }
          ],
          "histogram2d": [
           {
            "colorbar": {
             "outlinewidth": 0,
             "ticks": ""
            },
            "colorscale": [
             [
              0,
              "#0d0887"
             ],
             [
              0.1111111111111111,
              "#46039f"
             ],
             [
              0.2222222222222222,
              "#7201a8"
             ],
             [
              0.3333333333333333,
              "#9c179e"
             ],
             [
              0.4444444444444444,
              "#bd3786"
             ],
             [
              0.5555555555555556,
              "#d8576b"
             ],
             [
              0.6666666666666666,
              "#ed7953"
             ],
             [
              0.7777777777777778,
              "#fb9f3a"
             ],
             [
              0.8888888888888888,
              "#fdca26"
             ],
             [
              1,
              "#f0f921"
             ]
            ],
            "type": "histogram2d"
           }
          ],
          "histogram2dcontour": [
           {
            "colorbar": {
             "outlinewidth": 0,
             "ticks": ""
            },
            "colorscale": [
             [
              0,
              "#0d0887"
             ],
             [
              0.1111111111111111,
              "#46039f"
             ],
             [
              0.2222222222222222,
              "#7201a8"
             ],
             [
              0.3333333333333333,
              "#9c179e"
             ],
             [
              0.4444444444444444,
              "#bd3786"
             ],
             [
              0.5555555555555556,
              "#d8576b"
             ],
             [
              0.6666666666666666,
              "#ed7953"
             ],
             [
              0.7777777777777778,
              "#fb9f3a"
             ],
             [
              0.8888888888888888,
              "#fdca26"
             ],
             [
              1,
              "#f0f921"
             ]
            ],
            "type": "histogram2dcontour"
           }
          ],
          "mesh3d": [
           {
            "colorbar": {
             "outlinewidth": 0,
             "ticks": ""
            },
            "type": "mesh3d"
           }
          ],
          "parcoords": [
           {
            "line": {
             "colorbar": {
              "outlinewidth": 0,
              "ticks": ""
             }
            },
            "type": "parcoords"
           }
          ],
          "pie": [
           {
            "automargin": true,
            "type": "pie"
           }
          ],
          "scatter": [
           {
            "fillpattern": {
             "fillmode": "overlay",
             "size": 10,
             "solidity": 0.2
            },
            "type": "scatter"
           }
          ],
          "scatter3d": [
           {
            "line": {
             "colorbar": {
              "outlinewidth": 0,
              "ticks": ""
             }
            },
            "marker": {
             "colorbar": {
              "outlinewidth": 0,
              "ticks": ""
             }
            },
            "type": "scatter3d"
           }
          ],
          "scattercarpet": [
           {
            "marker": {
             "colorbar": {
              "outlinewidth": 0,
              "ticks": ""
             }
            },
            "type": "scattercarpet"
           }
          ],
          "scattergeo": [
           {
            "marker": {
             "colorbar": {
              "outlinewidth": 0,
              "ticks": ""
             }
            },
            "type": "scattergeo"
           }
          ],
          "scattergl": [
           {
            "marker": {
             "colorbar": {
              "outlinewidth": 0,
              "ticks": ""
             }
            },
            "type": "scattergl"
           }
          ],
          "scattermapbox": [
           {
            "marker": {
             "colorbar": {
              "outlinewidth": 0,
              "ticks": ""
             }
            },
            "type": "scattermapbox"
           }
          ],
          "scatterpolar": [
           {
            "marker": {
             "colorbar": {
              "outlinewidth": 0,
              "ticks": ""
             }
            },
            "type": "scatterpolar"
           }
          ],
          "scatterpolargl": [
           {
            "marker": {
             "colorbar": {
              "outlinewidth": 0,
              "ticks": ""
             }
            },
            "type": "scatterpolargl"
           }
          ],
          "scatterternary": [
           {
            "marker": {
             "colorbar": {
              "outlinewidth": 0,
              "ticks": ""
             }
            },
            "type": "scatterternary"
           }
          ],
          "surface": [
           {
            "colorbar": {
             "outlinewidth": 0,
             "ticks": ""
            },
            "colorscale": [
             [
              0,
              "#0d0887"
             ],
             [
              0.1111111111111111,
              "#46039f"
             ],
             [
              0.2222222222222222,
              "#7201a8"
             ],
             [
              0.3333333333333333,
              "#9c179e"
             ],
             [
              0.4444444444444444,
              "#bd3786"
             ],
             [
              0.5555555555555556,
              "#d8576b"
             ],
             [
              0.6666666666666666,
              "#ed7953"
             ],
             [
              0.7777777777777778,
              "#fb9f3a"
             ],
             [
              0.8888888888888888,
              "#fdca26"
             ],
             [
              1,
              "#f0f921"
             ]
            ],
            "type": "surface"
           }
          ],
          "table": [
           {
            "cells": {
             "fill": {
              "color": "#EBF0F8"
             },
             "line": {
              "color": "white"
             }
            },
            "header": {
             "fill": {
              "color": "#C8D4E3"
             },
             "line": {
              "color": "white"
             }
            },
            "type": "table"
           }
          ]
         },
         "layout": {
          "annotationdefaults": {
           "arrowcolor": "#2a3f5f",
           "arrowhead": 0,
           "arrowwidth": 1
          },
          "autotypenumbers": "strict",
          "coloraxis": {
           "colorbar": {
            "outlinewidth": 0,
            "ticks": ""
           }
          },
          "colorscale": {
           "diverging": [
            [
             0,
             "#8e0152"
            ],
            [
             0.1,
             "#c51b7d"
            ],
            [
             0.2,
             "#de77ae"
            ],
            [
             0.3,
             "#f1b6da"
            ],
            [
             0.4,
             "#fde0ef"
            ],
            [
             0.5,
             "#f7f7f7"
            ],
            [
             0.6,
             "#e6f5d0"
            ],
            [
             0.7,
             "#b8e186"
            ],
            [
             0.8,
             "#7fbc41"
            ],
            [
             0.9,
             "#4d9221"
            ],
            [
             1,
             "#276419"
            ]
           ],
           "sequential": [
            [
             0,
             "#0d0887"
            ],
            [
             0.1111111111111111,
             "#46039f"
            ],
            [
             0.2222222222222222,
             "#7201a8"
            ],
            [
             0.3333333333333333,
             "#9c179e"
            ],
            [
             0.4444444444444444,
             "#bd3786"
            ],
            [
             0.5555555555555556,
             "#d8576b"
            ],
            [
             0.6666666666666666,
             "#ed7953"
            ],
            [
             0.7777777777777778,
             "#fb9f3a"
            ],
            [
             0.8888888888888888,
             "#fdca26"
            ],
            [
             1,
             "#f0f921"
            ]
           ],
           "sequentialminus": [
            [
             0,
             "#0d0887"
            ],
            [
             0.1111111111111111,
             "#46039f"
            ],
            [
             0.2222222222222222,
             "#7201a8"
            ],
            [
             0.3333333333333333,
             "#9c179e"
            ],
            [
             0.4444444444444444,
             "#bd3786"
            ],
            [
             0.5555555555555556,
             "#d8576b"
            ],
            [
             0.6666666666666666,
             "#ed7953"
            ],
            [
             0.7777777777777778,
             "#fb9f3a"
            ],
            [
             0.8888888888888888,
             "#fdca26"
            ],
            [
             1,
             "#f0f921"
            ]
           ]
          },
          "colorway": [
           "#636efa",
           "#EF553B",
           "#00cc96",
           "#ab63fa",
           "#FFA15A",
           "#19d3f3",
           "#FF6692",
           "#B6E880",
           "#FF97FF",
           "#FECB52"
          ],
          "font": {
           "color": "#2a3f5f"
          },
          "geo": {
           "bgcolor": "white",
           "lakecolor": "white",
           "landcolor": "#E5ECF6",
           "showlakes": true,
           "showland": true,
           "subunitcolor": "white"
          },
          "hoverlabel": {
           "align": "left"
          },
          "hovermode": "closest",
          "mapbox": {
           "style": "light"
          },
          "paper_bgcolor": "white",
          "plot_bgcolor": "#E5ECF6",
          "polar": {
           "angularaxis": {
            "gridcolor": "white",
            "linecolor": "white",
            "ticks": ""
           },
           "bgcolor": "#E5ECF6",
           "radialaxis": {
            "gridcolor": "white",
            "linecolor": "white",
            "ticks": ""
           }
          },
          "scene": {
           "xaxis": {
            "backgroundcolor": "#E5ECF6",
            "gridcolor": "white",
            "gridwidth": 2,
            "linecolor": "white",
            "showbackground": true,
            "ticks": "",
            "zerolinecolor": "white"
           },
           "yaxis": {
            "backgroundcolor": "#E5ECF6",
            "gridcolor": "white",
            "gridwidth": 2,
            "linecolor": "white",
            "showbackground": true,
            "ticks": "",
            "zerolinecolor": "white"
           },
           "zaxis": {
            "backgroundcolor": "#E5ECF6",
            "gridcolor": "white",
            "gridwidth": 2,
            "linecolor": "white",
            "showbackground": true,
            "ticks": "",
            "zerolinecolor": "white"
           }
          },
          "shapedefaults": {
           "line": {
            "color": "#2a3f5f"
           }
          },
          "ternary": {
           "aaxis": {
            "gridcolor": "white",
            "linecolor": "white",
            "ticks": ""
           },
           "baxis": {
            "gridcolor": "white",
            "linecolor": "white",
            "ticks": ""
           },
           "bgcolor": "#E5ECF6",
           "caxis": {
            "gridcolor": "white",
            "linecolor": "white",
            "ticks": ""
           }
          },
          "title": {
           "x": 0.05
          },
          "xaxis": {
           "automargin": true,
           "gridcolor": "white",
           "linecolor": "white",
           "ticks": "",
           "title": {
            "standoff": 15
           },
           "zerolinecolor": "white",
           "zerolinewidth": 2
          },
          "yaxis": {
           "automargin": true,
           "gridcolor": "white",
           "linecolor": "white",
           "ticks": "",
           "title": {
            "standoff": 15
           },
           "zerolinecolor": "white",
           "zerolinewidth": 2
          }
         }
        },
        "title": {
         "text": "Feature Contribution"
        },
        "uniformtext": {
         "minsize": 14,
         "mode": "show"
        },
        "width": 1000,
        "xaxis": {
         "anchor": "y",
         "domain": [
          0,
          1
         ],
         "title": {
          "text": "timestep"
         }
        },
        "yaxis": {
         "anchor": "x",
         "domain": [
          0,
          1
         ],
         "title": {
          "text": "Feature Contribution in key timesteps"
         }
        }
       }
      }
     },
     "metadata": {},
     "output_type": "display_data"
    },
    {
     "name": "stdout",
     "output_type": "stream",
     "text": [
      "process flowchart\n",
      "st0=>start: start none_role:none\n",
      "op1=>operation: none_role:none\n",
      "op2=>operation: none_role:none\n",
      "op3=>operation: Request For Payment APPROVED by ADMINISTRATION_role:ADMINISTRATION\n",
      "op4=>operation: Request For Payment SUBMITTED by EMPLOYEE_role:EMPLOYEE\n",
      "\n",
      "st0->op1\n",
      "op1->op2\n",
      "op2->op3\n",
      "op3->op4\n",
      "\n",
      "\n",
      "\n"
     ]
    }
   ],
   "source": [
    "shared_explain_local(shared_output_with_attention,x_test,y_test,index_ac, index_rl, index_ne, 3,53) #53 false, #1 true\n"
   ]
  },
  {
   "cell_type": "markdown",
   "metadata": {},
   "source": [
    "#### specialised Model"
   ]
  },
  {
   "cell_type": "code",
   "execution_count": 40,
   "metadata": {},
   "outputs": [],
   "source": [
    "specialised = specialised_model(vec_train, weights, indexes, pre_index, args)\n"
   ]
  },
  {
   "cell_type": "code",
   "execution_count": 41,
   "metadata": {},
   "outputs": [],
   "source": [
    "specialised.compile(loss='categorical_crossentropy', optimizer='Adam', metrics=['accuracy'])"
   ]
  },
  {
   "cell_type": "code",
   "execution_count": 42,
   "metadata": {},
   "outputs": [
    {
     "name": "stdout",
     "output_type": "stream",
     "text": [
      "Model: \"model_2\"\n",
      "__________________________________________________________________________________________________\n",
      " Layer (type)                Output Shape                 Param #   Connected to                  \n",
      "==================================================================================================\n",
      " ac_input (InputLayer)       [(None, 5, 8)]               0         []                            \n",
      "                                                                                                  \n",
      " rl_input (InputLayer)       [(None, 5, 5)]               0         []                            \n",
      "                                                                                                  \n",
      " t_input (InputLayer)        [(None, 5, 1)]               0         []                            \n",
      "                                                                                                  \n",
      " beta_ac (Bidirectional)     (None, 5, 100)               23600     ['ac_input[0][0]']            \n",
      "                                                                                                  \n",
      " beta_rl (Bidirectional)     (None, 5, 100)               22400     ['rl_input[0][0]']            \n",
      "                                                                                                  \n",
      " beta_t (Bidirectional)      (None, 5, 100)               20800     ['t_input[0][0]']             \n",
      "                                                                                                  \n",
      " feature_attention_ac (Time  (None, 5, 8)                 808       ['beta_ac[0][0]']             \n",
      " Distributed)                                                                                     \n",
      "                                                                                                  \n",
      " feature_attention_rl (Time  (None, 5, 5)                 505       ['beta_rl[0][0]']             \n",
      " Distributed)                                                                                     \n",
      "                                                                                                  \n",
      " feature_attention_t (TimeD  (None, 5, 1)                 101       ['beta_t[0][0]']              \n",
      " istributed)                                                                                      \n",
      "                                                                                                  \n",
      " ac_importance (Multiply)    (None, 5, 8)                 0         ['feature_attention_ac[0][0]',\n",
      "                                                                     'ac_input[0][0]']            \n",
      "                                                                                                  \n",
      " rl_importance (Multiply)    (None, 5, 5)                 0         ['feature_attention_rl[0][0]',\n",
      "                                                                     'rl_input[0][0]']            \n",
      "                                                                                                  \n",
      " t_importance (Multiply)     (None, 5, 1)                 0         ['feature_attention_t[0][0]', \n",
      "                                                                     't_input[0][0]']             \n",
      "                                                                                                  \n",
      " concat (Concatenate)        (None, 5, 14)                0         ['ac_importance[0][0]',       \n",
      "                                                                     'rl_importance[0][0]',       \n",
      "                                                                     't_importance[0][0]']        \n",
      "                                                                                                  \n",
      " alpha (Bidirectional)       (None, 5, 100)               26000     ['concat[0][0]']              \n",
      "                                                                                                  \n",
      " alpha_dense (TimeDistribut  (None, 5, 1)                 101       ['alpha[0][0]']               \n",
      " ed)                                                                                              \n",
      "                                                                                                  \n",
      " timestep_attention (Softma  (None, 5, 1)                 0         ['alpha_dense[0][0]']         \n",
      " x)                                                                                               \n",
      "                                                                                                  \n",
      " multiply (Multiply)         (None, 5, 14)                0         ['timestep_attention[0][0]',  \n",
      "                                                                     'concat[0][0]']              \n",
      "                                                                                                  \n",
      " lambda_1 (Lambda)           (None, 14)                   0         ['multiply[0][0]']            \n",
      "                                                                                                  \n",
      " dropout_2 (Dropout)         (None, 14)                   0         ['lambda_1[0][0]']            \n",
      "                                                                                                  \n",
      " act_output (Dense)          (None, 5)                    75        ['dropout_2[0][0]']           \n",
      "                                                                                                  \n",
      "==================================================================================================\n",
      "Total params: 94390 (368.71 KB)\n",
      "Trainable params: 94390 (368.71 KB)\n",
      "Non-trainable params: 0 (0.00 Byte)\n",
      "__________________________________________________________________________________________________\n"
     ]
    }
   ],
   "source": [
    "specialised.summary()"
   ]
  },
  {
   "cell_type": "code",
   "execution_count": 43,
   "metadata": {},
   "outputs": [],
   "source": [
    "batch_size = 256 # 32, 64, 128, 256\n",
    "epochs = 100"
   ]
  },
  {
   "cell_type": "code",
   "execution_count": 44,
   "metadata": {},
   "outputs": [
    {
     "name": "stdout",
     "output_type": "stream",
     "text": [
      "This is the output file path  c:\\Users\\20182009\\Documents\\Master DSAI\\y2 q1\\2IMI00 seminar process analytics\\replicationStudy\\Shared-and-Specialised-Attention-based-Interpretable-Models\\BPIC20\\models\\model_specialised_Request For Payment APPROVED by ADMINISTRATION_{epoch:02d}-{val_loss:.2f}.h5\n",
      "Epoch 1/100\n"
     ]
    },
    {
     "name": "stdout",
     "output_type": "stream",
     "text": [
      "13/13 [==============================] - 18s 277ms/step - loss: 1.5749 - accuracy: 0.4793 - val_loss: 1.5199 - val_accuracy: 0.6083 - lr: 0.0010\n",
      "Epoch 2/100\n",
      "13/13 [==============================] - 0s 37ms/step - loss: 1.4680 - accuracy: 0.6074 - val_loss: 1.3937 - val_accuracy: 0.6083 - lr: 0.0010\n",
      "Epoch 3/100\n",
      "13/13 [==============================] - 1s 67ms/step - loss: 1.3228 - accuracy: 0.6098 - val_loss: 1.2239 - val_accuracy: 0.6083 - lr: 0.0010\n",
      "Epoch 4/100\n",
      "13/13 [==============================] - 1s 40ms/step - loss: 1.1882 - accuracy: 0.6074 - val_loss: 1.1367 - val_accuracy: 0.6083 - lr: 0.0010\n",
      "Epoch 5/100\n",
      "13/13 [==============================] - 0s 36ms/step - loss: 1.1381 - accuracy: 0.6070 - val_loss: 1.0943 - val_accuracy: 0.6083 - lr: 0.0010\n",
      "Epoch 6/100\n",
      "13/13 [==============================] - 0s 35ms/step - loss: 1.1009 - accuracy: 0.6092 - val_loss: 1.0614 - val_accuracy: 0.6083 - lr: 0.0010\n",
      "Epoch 7/100\n",
      "13/13 [==============================] - 0s 35ms/step - loss: 1.0717 - accuracy: 0.6092 - val_loss: 1.0320 - val_accuracy: 0.6083 - lr: 0.0010\n",
      "Epoch 8/100\n",
      "13/13 [==============================] - 0s 34ms/step - loss: 1.0426 - accuracy: 0.6055 - val_loss: 1.0060 - val_accuracy: 0.6083 - lr: 0.0010\n",
      "Epoch 9/100\n",
      "13/13 [==============================] - 0s 36ms/step - loss: 1.0224 - accuracy: 0.6043 - val_loss: 0.9835 - val_accuracy: 0.6083 - lr: 0.0010\n",
      "Epoch 10/100\n",
      "13/13 [==============================] - 1s 39ms/step - loss: 0.9981 - accuracy: 0.6083 - val_loss: 0.9626 - val_accuracy: 0.6083 - lr: 0.0010\n",
      "Epoch 11/100\n",
      "13/13 [==============================] - 0s 39ms/step - loss: 0.9840 - accuracy: 0.6080 - val_loss: 0.9446 - val_accuracy: 0.6083 - lr: 0.0010\n",
      "Epoch 12/100\n",
      "13/13 [==============================] - 0s 36ms/step - loss: 0.9657 - accuracy: 0.6095 - val_loss: 0.9285 - val_accuracy: 0.6083 - lr: 0.0010\n",
      "Epoch 13/100\n",
      "13/13 [==============================] - 0s 39ms/step - loss: 0.9544 - accuracy: 0.6055 - val_loss: 0.9141 - val_accuracy: 0.6101 - lr: 0.0010\n",
      "Epoch 14/100\n",
      "13/13 [==============================] - 1s 44ms/step - loss: 0.9434 - accuracy: 0.6046 - val_loss: 0.9008 - val_accuracy: 0.6101 - lr: 0.0010\n",
      "Epoch 15/100\n",
      "13/13 [==============================] - 1s 41ms/step - loss: 0.9238 - accuracy: 0.6132 - val_loss: 0.8897 - val_accuracy: 0.6101 - lr: 0.0010\n",
      "Epoch 16/100\n",
      "13/13 [==============================] - 1s 40ms/step - loss: 0.9215 - accuracy: 0.6077 - val_loss: 0.8792 - val_accuracy: 0.6101 - lr: 0.0010\n",
      "Epoch 17/100\n",
      "13/13 [==============================] - 1s 43ms/step - loss: 0.9059 - accuracy: 0.6089 - val_loss: 0.8702 - val_accuracy: 0.6101 - lr: 0.0010\n",
      "Epoch 18/100\n",
      "13/13 [==============================] - 1s 42ms/step - loss: 0.8993 - accuracy: 0.6104 - val_loss: 0.8620 - val_accuracy: 0.6101 - lr: 0.0010\n",
      "Epoch 19/100\n",
      "13/13 [==============================] - 1s 41ms/step - loss: 0.8945 - accuracy: 0.6092 - val_loss: 0.8541 - val_accuracy: 0.6101 - lr: 0.0010\n",
      "Epoch 20/100\n",
      "13/13 [==============================] - 1s 42ms/step - loss: 0.8900 - accuracy: 0.6070 - val_loss: 0.8474 - val_accuracy: 0.6101 - lr: 0.0010\n",
      "Epoch 21/100\n",
      "13/13 [==============================] - 1s 41ms/step - loss: 0.8820 - accuracy: 0.6064 - val_loss: 0.8411 - val_accuracy: 0.6101 - lr: 0.0010\n",
      "Epoch 22/100\n",
      "13/13 [==============================] - 1s 44ms/step - loss: 0.8775 - accuracy: 0.6095 - val_loss: 0.8353 - val_accuracy: 0.6101 - lr: 0.0010\n",
      "Epoch 23/100\n",
      "13/13 [==============================] - 0s 38ms/step - loss: 0.8713 - accuracy: 0.6046 - val_loss: 0.8301 - val_accuracy: 0.6101 - lr: 0.0010\n",
      "Epoch 24/100\n",
      "13/13 [==============================] - 1s 40ms/step - loss: 0.8678 - accuracy: 0.6095 - val_loss: 0.8252 - val_accuracy: 0.6101 - lr: 0.0010\n",
      "Epoch 25/100\n",
      "13/13 [==============================] - 1s 42ms/step - loss: 0.8645 - accuracy: 0.6074 - val_loss: 0.8208 - val_accuracy: 0.6101 - lr: 0.0010\n",
      "Epoch 26/100\n",
      "13/13 [==============================] - 1s 46ms/step - loss: 0.8590 - accuracy: 0.6129 - val_loss: 0.8168 - val_accuracy: 0.6101 - lr: 0.0010\n",
      "Epoch 27/100\n",
      "13/13 [==============================] - 1s 40ms/step - loss: 0.8569 - accuracy: 0.6080 - val_loss: 0.8129 - val_accuracy: 0.6101 - lr: 0.0010\n",
      "Epoch 28/100\n",
      "13/13 [==============================] - 0s 37ms/step - loss: 0.8556 - accuracy: 0.6095 - val_loss: 0.8093 - val_accuracy: 0.6101 - lr: 0.0010\n",
      "Epoch 29/100\n",
      "13/13 [==============================] - 0s 35ms/step - loss: 0.8490 - accuracy: 0.6101 - val_loss: 0.8062 - val_accuracy: 0.6101 - lr: 0.0010\n",
      "Epoch 30/100\n",
      "13/13 [==============================] - 0s 37ms/step - loss: 0.8495 - accuracy: 0.6147 - val_loss: 0.8030 - val_accuracy: 0.6101 - lr: 0.0010\n",
      "Epoch 31/100\n",
      "13/13 [==============================] - 0s 37ms/step - loss: 0.8461 - accuracy: 0.6086 - val_loss: 0.8003 - val_accuracy: 0.6101 - lr: 0.0010\n",
      "Epoch 32/100\n",
      "13/13 [==============================] - 1s 42ms/step - loss: 0.8437 - accuracy: 0.6067 - val_loss: 0.7977 - val_accuracy: 0.6101 - lr: 0.0010\n",
      "Epoch 33/100\n",
      "13/13 [==============================] - 1s 42ms/step - loss: 0.8433 - accuracy: 0.6067 - val_loss: 0.7953 - val_accuracy: 0.6101 - lr: 0.0010\n",
      "Epoch 34/100\n",
      "13/13 [==============================] - 0s 36ms/step - loss: 0.8368 - accuracy: 0.6092 - val_loss: 0.7929 - val_accuracy: 0.6101 - lr: 0.0010\n",
      "Epoch 35/100\n",
      "13/13 [==============================] - 1s 51ms/step - loss: 0.8368 - accuracy: 0.6077 - val_loss: 0.7909 - val_accuracy: 0.6101 - lr: 0.0010\n",
      "Epoch 36/100\n",
      "13/13 [==============================] - 1s 42ms/step - loss: 0.8365 - accuracy: 0.6077 - val_loss: 0.7886 - val_accuracy: 0.6101 - lr: 0.0010\n",
      "Epoch 37/100\n",
      "13/13 [==============================] - 1s 42ms/step - loss: 0.8315 - accuracy: 0.6119 - val_loss: 0.7868 - val_accuracy: 0.6101 - lr: 0.0010\n",
      "Epoch 38/100\n",
      "13/13 [==============================] - 1s 40ms/step - loss: 0.8313 - accuracy: 0.6080 - val_loss: 0.7851 - val_accuracy: 0.6101 - lr: 0.0010\n",
      "Epoch 39/100\n",
      "13/13 [==============================] - 1s 48ms/step - loss: 0.8315 - accuracy: 0.6116 - val_loss: 0.7833 - val_accuracy: 0.6101 - lr: 0.0010\n",
      "Epoch 40/100\n",
      "13/13 [==============================] - 1s 40ms/step - loss: 0.8282 - accuracy: 0.6138 - val_loss: 0.7815 - val_accuracy: 0.6101 - lr: 0.0010\n",
      "Epoch 41/100\n",
      "13/13 [==============================] - 0s 35ms/step - loss: 0.8327 - accuracy: 0.6123 - val_loss: 0.7802 - val_accuracy: 0.6101 - lr: 0.0010\n",
      "Epoch 42/100\n",
      "13/13 [==============================] - 1s 40ms/step - loss: 0.8296 - accuracy: 0.6095 - val_loss: 0.7789 - val_accuracy: 0.6101 - lr: 0.0010\n",
      "Epoch 43/100\n",
      "13/13 [==============================] - 0s 38ms/step - loss: 0.8230 - accuracy: 0.6153 - val_loss: 0.7773 - val_accuracy: 0.6101 - lr: 0.0010\n",
      "Epoch 44/100\n",
      "13/13 [==============================] - 1s 39ms/step - loss: 0.8232 - accuracy: 0.6141 - val_loss: 0.7762 - val_accuracy: 0.6101 - lr: 0.0010\n",
      "Epoch 45/100\n",
      "13/13 [==============================] - 0s 38ms/step - loss: 0.8232 - accuracy: 0.6141 - val_loss: 0.7755 - val_accuracy: 0.6101 - lr: 0.0010\n",
      "Epoch 46/100\n",
      "13/13 [==============================] - 0s 36ms/step - loss: 0.8213 - accuracy: 0.6141 - val_loss: 0.7748 - val_accuracy: 0.6101 - lr: 0.0010\n",
      "Epoch 47/100\n",
      "13/13 [==============================] - 0s 38ms/step - loss: 0.8194 - accuracy: 0.6150 - val_loss: 0.7732 - val_accuracy: 0.6101 - lr: 0.0010\n",
      "Epoch 48/100\n",
      "13/13 [==============================] - 0s 36ms/step - loss: 0.8256 - accuracy: 0.6138 - val_loss: 0.7721 - val_accuracy: 0.6101 - lr: 0.0010\n",
      "Epoch 49/100\n",
      "13/13 [==============================] - 1s 44ms/step - loss: 0.8185 - accuracy: 0.6150 - val_loss: 0.7712 - val_accuracy: 0.6101 - lr: 0.0010\n",
      "Epoch 50/100\n",
      "13/13 [==============================] - 0s 36ms/step - loss: 0.8166 - accuracy: 0.6159 - val_loss: 0.7709 - val_accuracy: 0.6101 - lr: 0.0010\n",
      "Epoch 51/100\n",
      "13/13 [==============================] - 0s 36ms/step - loss: 0.8207 - accuracy: 0.6138 - val_loss: 0.7698 - val_accuracy: 0.6101 - lr: 0.0010\n",
      "Epoch 52/100\n",
      "13/13 [==============================] - 0s 39ms/step - loss: 0.8146 - accuracy: 0.6156 - val_loss: 0.7690 - val_accuracy: 0.6101 - lr: 0.0010\n",
      "Epoch 53/100\n",
      "13/13 [==============================] - 0s 35ms/step - loss: 0.8161 - accuracy: 0.6147 - val_loss: 0.7683 - val_accuracy: 0.6101 - lr: 0.0010\n",
      "Epoch 54/100\n",
      "13/13 [==============================] - 0s 38ms/step - loss: 0.8192 - accuracy: 0.6129 - val_loss: 0.7675 - val_accuracy: 0.6170 - lr: 0.0010\n",
      "Epoch 55/100\n",
      "13/13 [==============================] - 0s 37ms/step - loss: 0.8128 - accuracy: 0.6159 - val_loss: 0.7668 - val_accuracy: 0.6170 - lr: 0.0010\n",
      "Epoch 56/100\n",
      "13/13 [==============================] - 0s 37ms/step - loss: 0.8211 - accuracy: 0.6150 - val_loss: 0.7660 - val_accuracy: 0.6170 - lr: 0.0010\n",
      "Epoch 57/100\n",
      "13/13 [==============================] - 0s 35ms/step - loss: 0.8154 - accuracy: 0.6150 - val_loss: 0.7665 - val_accuracy: 0.6170 - lr: 0.0010\n",
      "Epoch 58/100\n",
      "13/13 [==============================] - 0s 36ms/step - loss: 0.8161 - accuracy: 0.6126 - val_loss: 0.7653 - val_accuracy: 0.6170 - lr: 0.0010\n",
      "Epoch 59/100\n",
      "13/13 [==============================] - 0s 35ms/step - loss: 0.8148 - accuracy: 0.6150 - val_loss: 0.7646 - val_accuracy: 0.6170 - lr: 0.0010\n",
      "Epoch 60/100\n",
      "13/13 [==============================] - 1s 37ms/step - loss: 0.8126 - accuracy: 0.6126 - val_loss: 0.7644 - val_accuracy: 0.6170 - lr: 0.0010\n",
      "Epoch 61/100\n",
      "13/13 [==============================] - 0s 36ms/step - loss: 0.8138 - accuracy: 0.6144 - val_loss: 0.7637 - val_accuracy: 0.6170 - lr: 0.0010\n",
      "Epoch 62/100\n",
      "13/13 [==============================] - 0s 36ms/step - loss: 0.8106 - accuracy: 0.6141 - val_loss: 0.7634 - val_accuracy: 0.6170 - lr: 0.0010\n",
      "Epoch 63/100\n",
      "13/13 [==============================] - 0s 37ms/step - loss: 0.8159 - accuracy: 0.6147 - val_loss: 0.7627 - val_accuracy: 0.6170 - lr: 0.0010\n",
      "Epoch 64/100\n",
      "13/13 [==============================] - 1s 40ms/step - loss: 0.8168 - accuracy: 0.6144 - val_loss: 0.7621 - val_accuracy: 0.6170 - lr: 0.0010\n",
      "Epoch 65/100\n",
      "13/13 [==============================] - 1s 41ms/step - loss: 0.8164 - accuracy: 0.6156 - val_loss: 0.7619 - val_accuracy: 0.6170 - lr: 0.0010\n",
      "Epoch 66/100\n",
      "13/13 [==============================] - 1s 40ms/step - loss: 0.8163 - accuracy: 0.6147 - val_loss: 0.7621 - val_accuracy: 0.6170 - lr: 0.0010\n",
      "Epoch 67/100\n",
      "13/13 [==============================] - 1s 46ms/step - loss: 0.8145 - accuracy: 0.6129 - val_loss: 0.7613 - val_accuracy: 0.6170 - lr: 0.0010\n",
      "Epoch 68/100\n",
      "13/13 [==============================] - 1s 40ms/step - loss: 0.8141 - accuracy: 0.6156 - val_loss: 0.7608 - val_accuracy: 0.6170 - lr: 0.0010\n",
      "Epoch 69/100\n",
      "13/13 [==============================] - 0s 39ms/step - loss: 0.8149 - accuracy: 0.6126 - val_loss: 0.7608 - val_accuracy: 0.6170 - lr: 0.0010\n",
      "Epoch 70/100\n",
      "13/13 [==============================] - 1s 40ms/step - loss: 0.8104 - accuracy: 0.6150 - val_loss: 0.7607 - val_accuracy: 0.6170 - lr: 0.0010\n",
      "Epoch 71/100\n",
      "13/13 [==============================] - 1s 48ms/step - loss: 0.8140 - accuracy: 0.6132 - val_loss: 0.7600 - val_accuracy: 0.6170 - lr: 0.0010\n",
      "Epoch 72/100\n",
      "13/13 [==============================] - 1s 41ms/step - loss: 0.8130 - accuracy: 0.6144 - val_loss: 0.7595 - val_accuracy: 0.6170 - lr: 0.0010\n",
      "Epoch 73/100\n",
      "13/13 [==============================] - 0s 37ms/step - loss: 0.8133 - accuracy: 0.6153 - val_loss: 0.7599 - val_accuracy: 0.6170 - lr: 0.0010\n",
      "Epoch 74/100\n",
      "13/13 [==============================] - 1s 45ms/step - loss: 0.8118 - accuracy: 0.6119 - val_loss: 0.7594 - val_accuracy: 0.6170 - lr: 0.0010\n",
      "Epoch 75/100\n",
      "13/13 [==============================] - 1s 46ms/step - loss: 0.8119 - accuracy: 0.6147 - val_loss: 0.7589 - val_accuracy: 0.6170 - lr: 0.0010\n",
      "Epoch 76/100\n",
      "13/13 [==============================] - 0s 37ms/step - loss: 0.8108 - accuracy: 0.6165 - val_loss: 0.7592 - val_accuracy: 0.6170 - lr: 0.0010\n",
      "Epoch 77/100\n",
      "13/13 [==============================] - 0s 36ms/step - loss: 0.8144 - accuracy: 0.6141 - val_loss: 0.7588 - val_accuracy: 0.6170 - lr: 0.0010\n",
      "Epoch 78/100\n",
      "13/13 [==============================] - 1s 40ms/step - loss: 0.8176 - accuracy: 0.6147 - val_loss: 0.7584 - val_accuracy: 0.6170 - lr: 0.0010\n",
      "Epoch 79/100\n",
      "13/13 [==============================] - 1s 43ms/step - loss: 0.8078 - accuracy: 0.6153 - val_loss: 0.7585 - val_accuracy: 0.6170 - lr: 0.0010\n",
      "Epoch 80/100\n",
      "13/13 [==============================] - 1s 45ms/step - loss: 0.8126 - accuracy: 0.6159 - val_loss: 0.7585 - val_accuracy: 0.6170 - lr: 0.0010\n",
      "Epoch 81/100\n",
      "13/13 [==============================] - 1s 41ms/step - loss: 0.8120 - accuracy: 0.6162 - val_loss: 0.7587 - val_accuracy: 0.6170 - lr: 0.0010\n",
      "Epoch 82/100\n",
      "13/13 [==============================] - 1s 47ms/step - loss: 0.8109 - accuracy: 0.6156 - val_loss: 0.7581 - val_accuracy: 0.6170 - lr: 0.0010\n",
      "Epoch 83/100\n",
      "13/13 [==============================] - 1s 43ms/step - loss: 0.8086 - accuracy: 0.6156 - val_loss: 0.7577 - val_accuracy: 0.6170 - lr: 0.0010\n",
      "Epoch 84/100\n",
      "13/13 [==============================] - 0s 38ms/step - loss: 0.8106 - accuracy: 0.6153 - val_loss: 0.7578 - val_accuracy: 0.6170 - lr: 0.0010\n",
      "Epoch 85/100\n",
      "13/13 [==============================] - 1s 41ms/step - loss: 0.8103 - accuracy: 0.6138 - val_loss: 0.7579 - val_accuracy: 0.6170 - lr: 0.0010\n",
      "Epoch 86/100\n",
      "13/13 [==============================] - 1s 43ms/step - loss: 0.8088 - accuracy: 0.6141 - val_loss: 0.7574 - val_accuracy: 0.6170 - lr: 0.0010\n",
      "Epoch 87/100\n",
      "13/13 [==============================] - 1s 40ms/step - loss: 0.8095 - accuracy: 0.6150 - val_loss: 0.7574 - val_accuracy: 0.6170 - lr: 0.0010\n",
      "Epoch 88/100\n",
      "13/13 [==============================] - 1s 42ms/step - loss: 0.8091 - accuracy: 0.6132 - val_loss: 0.7573 - val_accuracy: 0.6170 - lr: 0.0010\n",
      "Epoch 89/100\n",
      "13/13 [==============================] - 0s 36ms/step - loss: 0.8046 - accuracy: 0.6153 - val_loss: 0.7573 - val_accuracy: 0.6170 - lr: 0.0010\n",
      "Epoch 90/100\n",
      "13/13 [==============================] - 0s 36ms/step - loss: 0.8082 - accuracy: 0.6150 - val_loss: 0.7572 - val_accuracy: 0.6170 - lr: 0.0010\n",
      "Epoch 91/100\n",
      "13/13 [==============================] - 0s 35ms/step - loss: 0.8050 - accuracy: 0.6156 - val_loss: 0.7569 - val_accuracy: 0.6170 - lr: 0.0010\n",
      "Epoch 92/100\n",
      "13/13 [==============================] - 0s 36ms/step - loss: 0.8093 - accuracy: 0.6150 - val_loss: 0.7570 - val_accuracy: 0.6170 - lr: 0.0010\n",
      "Epoch 93/100\n",
      "13/13 [==============================] - 0s 36ms/step - loss: 0.8032 - accuracy: 0.6153 - val_loss: 0.7567 - val_accuracy: 0.6170 - lr: 0.0010\n",
      "Epoch 94/100\n",
      "13/13 [==============================] - 1s 39ms/step - loss: 0.8070 - accuracy: 0.6144 - val_loss: 0.7567 - val_accuracy: 0.6170 - lr: 0.0010\n",
      "Epoch 95/100\n",
      "13/13 [==============================] - 0s 36ms/step - loss: 0.8043 - accuracy: 0.6156 - val_loss: 0.7571 - val_accuracy: 0.6170 - lr: 0.0010\n",
      "Epoch 96/100\n",
      "13/13 [==============================] - 0s 36ms/step - loss: 0.8063 - accuracy: 0.6162 - val_loss: 0.7566 - val_accuracy: 0.6170 - lr: 0.0010\n",
      "Epoch 97/100\n",
      "13/13 [==============================] - 0s 35ms/step - loss: 0.8115 - accuracy: 0.6138 - val_loss: 0.7563 - val_accuracy: 0.6170 - lr: 0.0010\n",
      "Epoch 98/100\n",
      "13/13 [==============================] - 0s 36ms/step - loss: 0.8049 - accuracy: 0.6135 - val_loss: 0.7565 - val_accuracy: 0.6170 - lr: 0.0010\n",
      "Epoch 99/100\n",
      "13/13 [==============================] - 0s 35ms/step - loss: 0.8066 - accuracy: 0.6135 - val_loss: 0.7560 - val_accuracy: 0.6170 - lr: 0.0010\n",
      "Epoch 100/100\n",
      "13/13 [==============================] - 0s 38ms/step - loss: 0.8107 - accuracy: 0.6147 - val_loss: 0.7564 - val_accuracy: 0.6170 - lr: 0.0010\n"
     ]
    }
   ],
   "source": [
    "specialised_history = specialised_model_fit(vec_train, specialised, indexes, pre_index, MY_WORKSPACE_DIR, batch_size, epochs, args)"
   ]
  },
  {
   "cell_type": "code",
   "execution_count": 45,
   "metadata": {},
   "outputs": [
    {
     "data": {
      "image/png": "[encoded data removed]",
      "text/plain": [
       "<Figure size 640x480 with 1 Axes>"
      ]
     },
     "metadata": {},
     "output_type": "display_data"
    }
   ],
   "source": [
    "plot_specialised(specialised_history)"
   ]
  },
  {
   "cell_type": "code",
   "execution_count": 46,
   "metadata": {},
   "outputs": [
    {
     "name": "stderr",
     "output_type": "stream",
     "text": [
      "c:\\Users\\20182009\\Documents\\Master DSAI\\y2 q1\\2IMI00 seminar process analytics\\replicationStudy\\.venv\\lib\\site-packages\\keras\\src\\engine\\training.py:3079: UserWarning:\n",
      "\n",
      "You are saving your model as an HDF5 file via `model.save()`. This file format is considered legacy. We recommend using instead the native Keras format, e.g. `model.save('my_model.keras')`.\n",
      "\n"
     ]
    }
   ],
   "source": [
    "trained_model = os.path.join(os.path.join(MILESTONE_DIR, 'trained_models'),'specialised_model.h5')\n",
    "specialised.save(trained_model)"
   ]
  },
  {
   "cell_type": "markdown",
   "metadata": {},
   "source": [
    "##### Load Saved Model and Evaluate"
   ]
  },
  {
   "cell_type": "code",
   "execution_count": 47,
   "metadata": {},
   "outputs": [],
   "source": [
    "trained_model = os.path.join(os.path.join(MILESTONE_DIR, 'trained_models'),'specialised_model.h5')\n",
    "specialised_model = load_model(trained_model)"
   ]
  },
  {
   "cell_type": "markdown",
   "metadata": {},
   "source": [
    "Evaluating Prediction Performance"
   ]
  },
  {
   "cell_type": "code",
   "execution_count": 48,
   "metadata": {},
   "outputs": [
    {
     "name": "stdout",
     "output_type": "stream",
     "text": [
      "Evaluate on test data\n",
      "17/17 [==============================] - 3s 7ms/step - loss: 0.8345 - accuracy: 0.5926\n",
      "52/52 [==============================] - 3s 4ms/step\n",
      "test loss, test acc: [0.8344704508781433, 0.5925925970077515]\n"
     ]
    }
   ],
   "source": [
    "# Generating Inputs\n",
    "\n",
    "x_test_ohe,y_test = generate_inputs(vec_test,args,indexes,experiment)\n",
    "\n",
    "# Evaluate the model on the test data using `evaluate`\n",
    "print(\"Evaluate on test data\")\n",
    "\n",
    "results = specialised_model.evaluate(x_test_ohe, y_test, batch_size=100)\n",
    "y_pred = specialised_model.predict(x_test_ohe)\n",
    "print(\"test loss, test acc:\", results)"
   ]
  },
  {
   "cell_type": "code",
   "execution_count": 49,
   "metadata": {},
   "outputs": [
    {
     "name": "stdout",
     "output_type": "stream",
     "text": [
      "                                                  precision    recall  f1-score   support\n",
      "\n",
      "    Request For Payment APPROVED by BUDGET OWNER       0.79      0.03      0.06       626\n",
      "      Request For Payment APPROVED by SUPERVISOR       0.00      0.00      0.00         6\n",
      "Request For Payment FINAL_APPROVED by SUPERVISOR       0.59      0.99      0.74       962\n",
      "    Request For Payment REJECTED by BUDGET OWNER       0.00      0.00      0.00        13\n",
      "      Request For Payment REJECTED by SUPERVISOR       0.00      0.00      0.00        40\n",
      "\n",
      "                                        accuracy                           0.59      1647\n",
      "                                       macro avg       0.28      0.21      0.16      1647\n",
      "                                    weighted avg       0.65      0.59      0.45      1647\n",
      "\n"
     ]
    },
    {
     "name": "stderr",
     "output_type": "stream",
     "text": [
      "c:\\Users\\20182009\\Documents\\Master DSAI\\y2 q1\\2IMI00 seminar process analytics\\replicationStudy\\.venv\\lib\\site-packages\\sklearn\\metrics\\_classification.py:1469: UndefinedMetricWarning:\n",
      "\n",
      "Precision and F-score are ill-defined and being set to 0.0 in labels with no predicted samples. Use `zero_division` parameter to control this behavior.\n",
      "\n",
      "c:\\Users\\20182009\\Documents\\Master DSAI\\y2 q1\\2IMI00 seminar process analytics\\replicationStudy\\.venv\\lib\\site-packages\\sklearn\\metrics\\_classification.py:1469: UndefinedMetricWarning:\n",
      "\n",
      "Precision and F-score are ill-defined and being set to 0.0 in labels with no predicted samples. Use `zero_division` parameter to control this behavior.\n",
      "\n",
      "c:\\Users\\20182009\\Documents\\Master DSAI\\y2 q1\\2IMI00 seminar process analytics\\replicationStudy\\.venv\\lib\\site-packages\\sklearn\\metrics\\_classification.py:1469: UndefinedMetricWarning:\n",
      "\n",
      "Precision and F-score are ill-defined and being set to 0.0 in labels with no predicted samples. Use `zero_division` parameter to control this behavior.\n",
      "\n"
     ]
    }
   ],
   "source": [
    "target_names = [index_ne[i] for i in range(len(index_ne))]\n",
    "\n",
    "print(classification_report(y_test.argmax(axis=1), y_pred.argmax(axis=1), target_names=target_names))"
   ]
  },
  {
   "cell_type": "markdown",
   "metadata": {},
   "source": [
    "Confusion Matrix"
   ]
  },
  {
   "cell_type": "code",
   "execution_count": 50,
   "metadata": {},
   "outputs": [
    {
     "name": "stdout",
     "output_type": "stream",
     "text": [
      "[[ 19   0 607   0   0]\n",
      " [  0   0   6   0   0]\n",
      " [  5   0 957   0   0]\n",
      " [  0   0  13   0   0]\n",
      " [  0   0  40   0   0]]\n"
     ]
    },
    {
     "data": {
      "text/plain": [
       "<Axes: >"
      ]
     },
     "execution_count": 50,
     "metadata": {},
     "output_type": "execute_result"
    },
    {
     "data": {
      "image/png": "[encoded data removed]",
      "text/plain": [
       "<Figure size 1000x700 with 2 Axes>"
      ]
     },
     "metadata": {},
     "output_type": "display_data"
    }
   ],
   "source": [
    "matrix = confusion_matrix(y_test.argmax(axis=1), y_pred.argmax(axis=1))\n",
    "print(matrix)\n",
    "matrix_sum = np.sum(matrix, axis=1).reshape(-1,1)\n",
    "matrix_perc = matrix / matrix_sum\n",
    "df_cm = pd.DataFrame(matrix_perc, index = [index_ne[i] for i in range(len(index_ne))],\n",
    "                  columns = [index_ne[i] for i in range(len(index_ne))])\n",
    "\n",
    "plt.figure(figsize = (10,7))\n",
    "sn.heatmap(df_cm, annot=True)"
   ]
  },
  {
   "cell_type": "markdown",
   "metadata": {},
   "source": [
    "##### Generating Explanations with Attention Layer"
   ]
  },
  {
   "cell_type": "code",
   "execution_count": 51,
   "metadata": {},
   "outputs": [
    {
     "name": "stdout",
     "output_type": "stream",
     "text": [
      "52/52 [==============================] - 3s 7ms/step\n"
     ]
    }
   ],
   "source": [
    "model_attn_weights = Model(inputs=specialised_model.input,\n",
    "              outputs=[specialised_model.output, specialised_model.get_layer('timestep_attention').output,specialised_model.get_layer('ac_importance').output ,specialised_model.get_layer('rl_importance').output,specialised_model.get_layer('t_importance').output])\n",
    "\n",
    "output_with_attention = model_attn_weights.predict(x_test_ohe)"
   ]
  },
  {
   "cell_type": "code",
   "execution_count": 52,
   "metadata": {},
   "outputs": [
    {
     "data": {
      "text/plain": [
       "(1647, 5, 1)"
      ]
     },
     "execution_count": 52,
     "metadata": {},
     "output_type": "execute_result"
    }
   ],
   "source": [
    "output_with_attention[4].shape"
   ]
  },
  {
   "cell_type": "code",
   "execution_count": 53,
   "metadata": {},
   "outputs": [
    {
     "name": "stdout",
     "output_type": "stream",
     "text": [
      "{0: 'none', 1: 'ADMINISTRATION', 2: 'BUDGET OWNER', 3: 'EMPLOYEE', 4: 'SUPERVISOR'}\n"
     ]
    }
   ],
   "source": [
    "print(index_rl)"
   ]
  },
  {
   "cell_type": "code",
   "execution_count": 54,
   "metadata": {},
   "outputs": [
    {
     "data": {
      "application/vnd.plotly.v1+json": {
       "config": {
        "plotlyServerURL": "https://plot.ly"
       },
       "data": [
        {
         "alignmentgroup": "True",
         "hovertemplate": "feature_category=activity<br>timestep=%{x}<br>Feature Contribution in key timesteps=%{y}<br>feature=%{text}<extra></extra>",
         "legendgroup": "activity",
         "marker": {
          "color": "darkcyan",
          "pattern": {
           "shape": ""
          }
         },
         "name": "activity",
         "offsetgroup": "activity",
         "orientation": "v",
         "showlegend": true,
         "text": [
          "Request For Payment REJECTED by SUPERVISOR",
          "Request For Payment REJECTED by SUPERVISOR",
          "Request For Payment REJECTED by ADMINISTRATION",
          "none",
          "none"
         ],
         "textangle": 90,
         "textfont": {
          "size": 14
         },
         "textposition": "auto",
         "type": "bar",
         "x": [
          5,
          4,
          3,
          2,
          1
         ],
         "xaxis": "x",
         "y": [
          0.007336154298032582,
          0.0003700739246723095,
          null,
          null,
          null
         ],
         "yaxis": "y"
        },
        {
         "alignmentgroup": "True",
         "hovertemplate": "feature_category=role<br>timestep=%{x}<br>Feature Contribution in key timesteps=%{y}<br>feature=%{text}<extra></extra>",
         "legendgroup": "role",
         "marker": {
          "color": "darkslateblue",
          "pattern": {
           "shape": ""
          }
         },
         "name": "role",
         "offsetgroup": "role",
         "orientation": "v",
         "showlegend": true,
         "text": [
          "none",
          "none",
          "BUDGET OWNER",
          "none",
          "none"
         ],
         "textangle": 90,
         "textfont": {
          "size": 14
         },
         "textposition": "auto",
         "type": "bar",
         "x": [
          5,
          4,
          3,
          2,
          1
         ],
         "xaxis": "x",
         "y": [
          null,
          null,
          0.0000010212734697406838,
          null,
          null
         ],
         "yaxis": "y"
        },
        {
         "alignmentgroup": "True",
         "hovertemplate": "feature_category=time_lapsed<br>timestep=%{x}<br>Feature Contribution in key timesteps=%{y}<br>feature=%{text}<extra></extra>",
         "legendgroup": "time_lapsed",
         "marker": {
          "color": "lightslategray",
          "pattern": {
           "shape": ""
          }
         },
         "name": "time_lapsed",
         "offsetgroup": "time_lapsed",
         "orientation": "v",
         "showlegend": true,
         "text": [
          "t_lapsed",
          "t_lapsed",
          "t_lapsed",
          "t_lapsed",
          "t_lapsed"
         ],
         "textangle": 90,
         "textfont": {
          "size": 14
         },
         "textposition": "auto",
         "type": "bar",
         "x": [
          5,
          4,
          3,
          2,
          1
         ],
         "xaxis": "x",
         "y": [
          0.15279737146440198,
          0.37554506094790696,
          0.00015913905013677059,
          null,
          null
         ],
         "yaxis": "y"
        }
       ],
       "layout": {
        "bargap": 0.05,
        "barmode": "group",
        "height": 600,
        "legend": {
         "title": {
          "text": "feature_category"
         },
         "tracegroupgap": 0
        },
        "plot_bgcolor": "rgb(237,237,235)",
        "template": {
         "data": {
          "bar": [
           {
            "error_x": {
             "color": "#2a3f5f"
            },
            "error_y": {
             "color": "#2a3f5f"
            },
            "marker": {
             "line": {
              "color": "#E5ECF6",
              "width": 0.5
             },
             "pattern": {
              "fillmode": "overlay",
              "size": 10,
              "solidity": 0.2
             }
            },
            "type": "bar"
           }
          ],
          "barpolar": [
           {
            "marker": {
             "line": {
              "color": "#E5ECF6",
              "width": 0.5
             },
             "pattern": {
              "fillmode": "overlay",
              "size": 10,
              "solidity": 0.2
             }
            },
            "type": "barpolar"
           }
          ],
          "carpet": [
           {
            "aaxis": {
             "endlinecolor": "#2a3f5f",
             "gridcolor": "white",
             "linecolor": "white",
             "minorgridcolor": "white",
             "startlinecolor": "#2a3f5f"
            },
            "baxis": {
             "endlinecolor": "#2a3f5f",
             "gridcolor": "white",
             "linecolor": "white",
             "minorgridcolor": "white",
             "startlinecolor": "#2a3f5f"
            },
            "type": "carpet"
           }
          ],
          "choropleth": [
           {
            "colorbar": {
             "outlinewidth": 0,
             "ticks": ""
            },
            "type": "choropleth"
           }
          ],
          "contour": [
           {
            "colorbar": {
             "outlinewidth": 0,
             "ticks": ""
            },
            "colorscale": [
             [
              0,
              "#0d0887"
             ],
             [
              0.1111111111111111,
              "#46039f"
             ],
             [
              0.2222222222222222,
              "#7201a8"
             ],
             [
              0.3333333333333333,
              "#9c179e"
             ],
             [
              0.4444444444444444,
              "#bd3786"
             ],
             [
              0.5555555555555556,
              "#d8576b"
             ],
             [
              0.6666666666666666,
              "#ed7953"
             ],
             [
              0.7777777777777778,
              "#fb9f3a"
             ],
             [
              0.8888888888888888,
              "#fdca26"
             ],
             [
              1,
              "#f0f921"
             ]
            ],
            "type": "contour"
           }
          ],
          "contourcarpet": [
           {
            "colorbar": {
             "outlinewidth": 0,
             "ticks": ""
            },
            "type": "contourcarpet"
           }
          ],
          "heatmap": [
           {
            "colorbar": {
             "outlinewidth": 0,
             "ticks": ""
            },
            "colorscale": [
             [
              0,
              "#0d0887"
             ],
             [
              0.1111111111111111,
              "#46039f"
             ],
             [
              0.2222222222222222,
              "#7201a8"
             ],
             [
              0.3333333333333333,
              "#9c179e"
             ],
             [
              0.4444444444444444,
              "#bd3786"
             ],
             [
              0.5555555555555556,
              "#d8576b"
             ],
             [
              0.6666666666666666,
              "#ed7953"
             ],
             [
              0.7777777777777778,
              "#fb9f3a"
             ],
             [
              0.8888888888888888,
              "#fdca26"
             ],
             [
              1,
              "#f0f921"
             ]
            ],
            "type": "heatmap"
           }
          ],
          "heatmapgl": [
           {
            "colorbar": {
             "outlinewidth": 0,
             "ticks": ""
            },
            "colorscale": [
             [
              0,
              "#0d0887"
             ],
             [
              0.1111111111111111,
              "#46039f"
             ],
             [
              0.2222222222222222,
              "#7201a8"
             ],
             [
              0.3333333333333333,
              "#9c179e"
             ],
             [
              0.4444444444444444,
              "#bd3786"
             ],
             [
              0.5555555555555556,
              "#d8576b"
             ],
             [
              0.6666666666666666,
              "#ed7953"
             ],
             [
              0.7777777777777778,
              "#fb9f3a"
             ],
             [
              0.8888888888888888,
              "#fdca26"
             ],
             [
              1,
              "#f0f921"
             ]
            ],
            "type": "heatmapgl"
           }
          ],
          "histogram": [
           {
            "marker": {
             "pattern": {
              "fillmode": "overlay",
              "size": 10,
              "solidity": 0.2
             }
            },
            "type": "histogram"
           }
          ],
          "histogram2d": [
           {
            "colorbar": {
             "outlinewidth": 0,
             "ticks": ""
            },
            "colorscale": [
             [
              0,
              "#0d0887"
             ],
             [
              0.1111111111111111,
              "#46039f"
             ],
             [
              0.2222222222222222,
              "#7201a8"
             ],
             [
              0.3333333333333333,
              "#9c179e"
             ],
             [
              0.4444444444444444,
              "#bd3786"
             ],
             [
              0.5555555555555556,
              "#d8576b"
             ],
             [
              0.6666666666666666,
              "#ed7953"
             ],
             [
              0.7777777777777778,
              "#fb9f3a"
             ],
             [
              0.8888888888888888,
              "#fdca26"
             ],
             [
              1,
              "#f0f921"
             ]
            ],
            "type": "histogram2d"
           }
          ],
          "histogram2dcontour": [
           {
            "colorbar": {
             "outlinewidth": 0,
             "ticks": ""
            },
            "colorscale": [
             [
              0,
              "#0d0887"
             ],
             [
              0.1111111111111111,
              "#46039f"
             ],
             [
              0.2222222222222222,
              "#7201a8"
             ],
             [
              0.3333333333333333,
              "#9c179e"
             ],
             [
              0.4444444444444444,
              "#bd3786"
             ],
             [
              0.5555555555555556,
              "#d8576b"
             ],
             [
              0.6666666666666666,
              "#ed7953"
             ],
             [
              0.7777777777777778,
              "#fb9f3a"
             ],
             [
              0.8888888888888888,
              "#fdca26"
             ],
             [
              1,
              "#f0f921"
             ]
            ],
            "type": "histogram2dcontour"
           }
          ],
          "mesh3d": [
           {
            "colorbar": {
             "outlinewidth": 0,
             "ticks": ""
            },
            "type": "mesh3d"
           }
          ],
          "parcoords": [
           {
            "line": {
             "colorbar": {
              "outlinewidth": 0,
              "ticks": ""
             }
            },
            "type": "parcoords"
           }
          ],
          "pie": [
           {
            "automargin": true,
            "type": "pie"
           }
          ],
          "scatter": [
           {
            "fillpattern": {
             "fillmode": "overlay",
             "size": 10,
             "solidity": 0.2
            },
            "type": "scatter"
           }
          ],
          "scatter3d": [
           {
            "line": {
             "colorbar": {
              "outlinewidth": 0,
              "ticks": ""
             }
            },
            "marker": {
             "colorbar": {
              "outlinewidth": 0,
              "ticks": ""
             }
            },
            "type": "scatter3d"
           }
          ],
          "scattercarpet": [
           {
            "marker": {
             "colorbar": {
              "outlinewidth": 0,
              "ticks": ""
             }
            },
            "type": "scattercarpet"
           }
          ],
          "scattergeo": [
           {
            "marker": {
             "colorbar": {
              "outlinewidth": 0,
              "ticks": ""
             }
            },
            "type": "scattergeo"
           }
          ],
          "scattergl": [
           {
            "marker": {
             "colorbar": {
              "outlinewidth": 0,
              "ticks": ""
             }
            },
            "type": "scattergl"
           }
          ],
          "scattermapbox": [
           {
            "marker": {
             "colorbar": {
              "outlinewidth": 0,
              "ticks": ""
             }
            },
            "type": "scattermapbox"
           }
          ],
          "scatterpolar": [
           {
            "marker": {
             "colorbar": {
              "outlinewidth": 0,
              "ticks": ""
             }
            },
            "type": "scatterpolar"
           }
          ],
          "scatterpolargl": [
           {
            "marker": {
             "colorbar": {
              "outlinewidth": 0,
              "ticks": ""
             }
            },
            "type": "scatterpolargl"
           }
          ],
          "scatterternary": [
           {
            "marker": {
             "colorbar": {
              "outlinewidth": 0,
              "ticks": ""
             }
            },
            "type": "scatterternary"
           }
          ],
          "surface": [
           {
            "colorbar": {
             "outlinewidth": 0,
             "ticks": ""
            },
            "colorscale": [
             [
              0,
              "#0d0887"
             ],
             [
              0.1111111111111111,
              "#46039f"
             ],
             [
              0.2222222222222222,
              "#7201a8"
             ],
             [
              0.3333333333333333,
              "#9c179e"
             ],
             [
              0.4444444444444444,
              "#bd3786"
             ],
             [
              0.5555555555555556,
              "#d8576b"
             ],
             [
              0.6666666666666666,
              "#ed7953"
             ],
             [
              0.7777777777777778,
              "#fb9f3a"
             ],
             [
              0.8888888888888888,
              "#fdca26"
             ],
             [
              1,
              "#f0f921"
             ]
            ],
            "type": "surface"
           }
          ],
          "table": [
           {
            "cells": {
             "fill": {
              "color": "#EBF0F8"
             },
             "line": {
              "color": "white"
             }
            },
            "header": {
             "fill": {
              "color": "#C8D4E3"
             },
             "line": {
              "color": "white"
             }
            },
            "type": "table"
           }
          ]
         },
         "layout": {
          "annotationdefaults": {
           "arrowcolor": "#2a3f5f",
           "arrowhead": 0,
           "arrowwidth": 1
          },
          "autotypenumbers": "strict",
          "coloraxis": {
           "colorbar": {
            "outlinewidth": 0,
            "ticks": ""
           }
          },
          "colorscale": {
           "diverging": [
            [
             0,
             "#8e0152"
            ],
            [
             0.1,
             "#c51b7d"
            ],
            [
             0.2,
             "#de77ae"
            ],
            [
             0.3,
             "#f1b6da"
            ],
            [
             0.4,
             "#fde0ef"
            ],
            [
             0.5,
             "#f7f7f7"
            ],
            [
             0.6,
             "#e6f5d0"
            ],
            [
             0.7,
             "#b8e186"
            ],
            [
             0.8,
             "#7fbc41"
            ],
            [
             0.9,
             "#4d9221"
            ],
            [
             1,
             "#276419"
            ]
           ],
           "sequential": [
            [
             0,
             "#0d0887"
            ],
            [
             0.1111111111111111,
             "#46039f"
            ],
            [
             0.2222222222222222,
             "#7201a8"
            ],
            [
             0.3333333333333333,
             "#9c179e"
            ],
            [
             0.4444444444444444,
             "#bd3786"
            ],
            [
             0.5555555555555556,
             "#d8576b"
            ],
            [
             0.6666666666666666,
             "#ed7953"
            ],
            [
             0.7777777777777778,
             "#fb9f3a"
            ],
            [
             0.8888888888888888,
             "#fdca26"
            ],
            [
             1,
             "#f0f921"
            ]
           ],
           "sequentialminus": [
            [
             0,
             "#0d0887"
            ],
            [
             0.1111111111111111,
             "#46039f"
            ],
            [
             0.2222222222222222,
             "#7201a8"
            ],
            [
             0.3333333333333333,
             "#9c179e"
            ],
            [
             0.4444444444444444,
             "#bd3786"
            ],
            [
             0.5555555555555556,
             "#d8576b"
            ],
            [
             0.6666666666666666,
             "#ed7953"
            ],
            [
             0.7777777777777778,
             "#fb9f3a"
            ],
            [
             0.8888888888888888,
             "#fdca26"
            ],
            [
             1,
             "#f0f921"
            ]
           ]
          },
          "colorway": [
           "#636efa",
           "#EF553B",
           "#00cc96",
           "#ab63fa",
           "#FFA15A",
           "#19d3f3",
           "#FF6692",
           "#B6E880",
           "#FF97FF",
           "#FECB52"
          ],
          "font": {
           "color": "#2a3f5f"
          },
          "geo": {
           "bgcolor": "white",
           "lakecolor": "white",
           "landcolor": "#E5ECF6",
           "showlakes": true,
           "showland": true,
           "subunitcolor": "white"
          },
          "hoverlabel": {
           "align": "left"
          },
          "hovermode": "closest",
          "mapbox": {
           "style": "light"
          },
          "paper_bgcolor": "white",
          "plot_bgcolor": "#E5ECF6",
          "polar": {
           "angularaxis": {
            "gridcolor": "white",
            "linecolor": "white",
            "ticks": ""
           },
           "bgcolor": "#E5ECF6",
           "radialaxis": {
            "gridcolor": "white",
            "linecolor": "white",
            "ticks": ""
           }
          },
          "scene": {
           "xaxis": {
            "backgroundcolor": "#E5ECF6",
            "gridcolor": "white",
            "gridwidth": 2,
            "linecolor": "white",
            "showbackground": true,
            "ticks": "",
            "zerolinecolor": "white"
           },
           "yaxis": {
            "backgroundcolor": "#E5ECF6",
            "gridcolor": "white",
            "gridwidth": 2,
            "linecolor": "white",
            "showbackground": true,
            "ticks": "",
            "zerolinecolor": "white"
           },
           "zaxis": {
            "backgroundcolor": "#E5ECF6",
            "gridcolor": "white",
            "gridwidth": 2,
            "linecolor": "white",
            "showbackground": true,
            "ticks": "",
            "zerolinecolor": "white"
           }
          },
          "shapedefaults": {
           "line": {
            "color": "#2a3f5f"
           }
          },
          "ternary": {
           "aaxis": {
            "gridcolor": "white",
            "linecolor": "white",
            "ticks": ""
           },
           "baxis": {
            "gridcolor": "white",
            "linecolor": "white",
            "ticks": ""
           },
           "bgcolor": "#E5ECF6",
           "caxis": {
            "gridcolor": "white",
            "linecolor": "white",
            "ticks": ""
           }
          },
          "title": {
           "x": 0.05
          },
          "xaxis": {
           "automargin": true,
           "gridcolor": "white",
           "linecolor": "white",
           "ticks": "",
           "title": {
            "standoff": 15
           },
           "zerolinecolor": "white",
           "zerolinewidth": 2
          },
          "yaxis": {
           "automargin": true,
           "gridcolor": "white",
           "linecolor": "white",
           "ticks": "",
           "title": {
            "standoff": 15
           },
           "zerolinecolor": "white",
           "zerolinewidth": 2
          }
         }
        },
        "title": {
         "text": "Feature Contribution"
        },
        "uniformtext": {
         "minsize": 14,
         "mode": "show"
        },
        "width": 1000,
        "xaxis": {
         "anchor": "y",
         "domain": [
          0,
          1
         ],
         "title": {
          "text": "timestep"
         }
        },
        "yaxis": {
         "anchor": "x",
         "domain": [
          0,
          1
         ],
         "title": {
          "text": "Feature Contribution in key timesteps"
         }
        }
       }
      }
     },
     "metadata": {},
     "output_type": "display_data"
    }
   ],
   "source": [
    "explain_global(output_with_attention,x_test,y_test,index_ac, index_rl,3,prediction=2)"
   ]
  },
  {
   "cell_type": "markdown",
   "metadata": {},
   "source": [
    "###### Local Explanations"
   ]
  },
  {
   "cell_type": "code",
   "execution_count": 55,
   "metadata": {},
   "outputs": [
    {
     "data": {
      "text/html": [
       "<div>\n",
       "<style scoped>\n",
       "    .dataframe tbody tr th:only-of-type {\n",
       "        vertical-align: middle;\n",
       "    }\n",
       "\n",
       "    .dataframe tbody tr th {\n",
       "        vertical-align: top;\n",
       "    }\n",
       "\n",
       "    .dataframe thead th {\n",
       "        text-align: right;\n",
       "    }\n",
       "</style>\n",
       "<table border=\"1\" class=\"dataframe\">\n",
       "  <thead>\n",
       "    <tr style=\"text-align: right;\">\n",
       "      <th></th>\n",
       "      <th>sample_index</th>\n",
       "      <th>prediction</th>\n",
       "      <th>ground_truth</th>\n",
       "      <th>prediction_prob</th>\n",
       "      <th>pred_class</th>\n",
       "    </tr>\n",
       "  </thead>\n",
       "  <tbody>\n",
       "  </tbody>\n",
       "</table>\n",
       "</div>"
      ],
      "text/plain": [
       "Empty DataFrame\n",
       "Columns: [sample_index, prediction, ground_truth, prediction_prob, pred_class]\n",
       "Index: []"
      ]
     },
     "execution_count": 55,
     "metadata": {},
     "output_type": "execute_result"
    }
   ],
   "source": [
    "df_results = results_df(y_test,y_pred,index_ne)\n",
    "df_results [(df_results ['prediction'] == 'W_Assessing the application') & (df_results ['pred_class'] == True) & (df_results ['prediction_prob'] >=0.7) ].head(3)"
   ]
  },
  {
   "cell_type": "code",
   "execution_count": 56,
   "metadata": {},
   "outputs": [
    {
     "name": "stdout",
     "output_type": "stream",
     "text": [
      "prediction: Request For Payment FINAL_APPROVED by SUPERVISOR\n",
      "ground truth: Request For Payment FINAL_APPROVED by SUPERVISOR\n",
      "prediction probability:0.6133\n"
     ]
    },
    {
     "data": {
      "application/vnd.plotly.v1+json": {
       "config": {
        "plotlyServerURL": "https://plot.ly"
       },
       "data": [
        {
         "alignmentgroup": "True",
         "hovertemplate": "feature_category=activity<br>timestep=%{x}<br>Feature Contribution in key timesteps=%{y}<br>feature=%{text}<extra></extra>",
         "legendgroup": "activity",
         "marker": {
          "color": "darkcyan",
          "pattern": {
           "shape": ""
          }
         },
         "name": "activity",
         "offsetgroup": "activity",
         "orientation": "v",
         "showlegend": true,
         "text": [
          "none",
          "none",
          "Request For Payment APPROVED by ADMINISTRATION",
          "none",
          "none"
         ],
         "textangle": 90,
         "textfont": {
          "size": 14
         },
         "textposition": "auto",
         "type": "bar",
         "x": [
          5,
          4,
          3,
          2,
          1
         ],
         "xaxis": "x",
         "y": [
          null,
          null,
          null,
          null,
          null
         ],
         "yaxis": "y"
        },
        {
         "alignmentgroup": "True",
         "hovertemplate": "feature_category=role<br>timestep=%{x}<br>Feature Contribution in key timesteps=%{y}<br>feature=%{text}<extra></extra>",
         "legendgroup": "role",
         "marker": {
          "color": "darkslateblue",
          "pattern": {
           "shape": ""
          }
         },
         "name": "role",
         "offsetgroup": "role",
         "orientation": "v",
         "showlegend": true,
         "text": [
          "none",
          "none",
          "ADMINISTRATION",
          "none",
          "none"
         ],
         "textangle": 90,
         "textfont": {
          "size": 14
         },
         "textposition": "auto",
         "type": "bar",
         "x": [
          5,
          4,
          3,
          2,
          1
         ],
         "xaxis": "x",
         "y": [
          null,
          null,
          null,
          null,
          null
         ],
         "yaxis": "y"
        },
        {
         "alignmentgroup": "True",
         "hovertemplate": "feature_category=time_lapsed<br>timestep=%{x}<br>Feature Contribution in key timesteps=%{y}<br>feature=%{text}<extra></extra>",
         "legendgroup": "time_lapsed",
         "marker": {
          "color": "lightslategray",
          "pattern": {
           "shape": ""
          }
         },
         "name": "time_lapsed",
         "offsetgroup": "time_lapsed",
         "orientation": "v",
         "showlegend": true,
         "text": [
          "t_lapsed",
          "t_lapsed",
          "t_lapsed",
          "t_lapsed",
          "t_lapsed"
         ],
         "textangle": 90,
         "textfont": {
          "size": 14
         },
         "textposition": "auto",
         "type": "bar",
         "x": [
          5,
          4,
          3,
          2,
          1
         ],
         "xaxis": "x",
         "y": [
          0.13580506250864666,
          0.2695409956450536,
          null,
          null,
          null
         ],
         "yaxis": "y"
        }
       ],
       "layout": {
        "bargap": 0.05,
        "barmode": "group",
        "height": 600,
        "legend": {
         "title": {
          "text": "feature_category"
         },
         "tracegroupgap": 0
        },
        "plot_bgcolor": "rgb(237,237,235)",
        "template": {
         "data": {
          "bar": [
           {
            "error_x": {
             "color": "#2a3f5f"
            },
            "error_y": {
             "color": "#2a3f5f"
            },
            "marker": {
             "line": {
              "color": "#E5ECF6",
              "width": 0.5
             },
             "pattern": {
              "fillmode": "overlay",
              "size": 10,
              "solidity": 0.2
             }
            },
            "type": "bar"
           }
          ],
          "barpolar": [
           {
            "marker": {
             "line": {
              "color": "#E5ECF6",
              "width": 0.5
             },
             "pattern": {
              "fillmode": "overlay",
              "size": 10,
              "solidity": 0.2
             }
            },
            "type": "barpolar"
           }
          ],
          "carpet": [
           {
            "aaxis": {
             "endlinecolor": "#2a3f5f",
             "gridcolor": "white",
             "linecolor": "white",
             "minorgridcolor": "white",
             "startlinecolor": "#2a3f5f"
            },
            "baxis": {
             "endlinecolor": "#2a3f5f",
             "gridcolor": "white",
             "linecolor": "white",
             "minorgridcolor": "white",
             "startlinecolor": "#2a3f5f"
            },
            "type": "carpet"
           }
          ],
          "choropleth": [
           {
            "colorbar": {
             "outlinewidth": 0,
             "ticks": ""
            },
            "type": "choropleth"
           }
          ],
          "contour": [
           {
            "colorbar": {
             "outlinewidth": 0,
             "ticks": ""
            },
            "colorscale": [
             [
              0,
              "#0d0887"
             ],
             [
              0.1111111111111111,
              "#46039f"
             ],
             [
              0.2222222222222222,
              "#7201a8"
             ],
             [
              0.3333333333333333,
              "#9c179e"
             ],
             [
              0.4444444444444444,
              "#bd3786"
             ],
             [
              0.5555555555555556,
              "#d8576b"
             ],
             [
              0.6666666666666666,
              "#ed7953"
             ],
             [
              0.7777777777777778,
              "#fb9f3a"
             ],
             [
              0.8888888888888888,
              "#fdca26"
             ],
             [
              1,
              "#f0f921"
             ]
            ],
            "type": "contour"
           }
          ],
          "contourcarpet": [
           {
            "colorbar": {
             "outlinewidth": 0,
             "ticks": ""
            },
            "type": "contourcarpet"
           }
          ],
          "heatmap": [
           {
            "colorbar": {
             "outlinewidth": 0,
             "ticks": ""
            },
            "colorscale": [
             [
              0,
              "#0d0887"
             ],
             [
              0.1111111111111111,
              "#46039f"
             ],
             [
              0.2222222222222222,
              "#7201a8"
             ],
             [
              0.3333333333333333,
              "#9c179e"
             ],
             [
              0.4444444444444444,
              "#bd3786"
             ],
             [
              0.5555555555555556,
              "#d8576b"
             ],
             [
              0.6666666666666666,
              "#ed7953"
             ],
             [
              0.7777777777777778,
              "#fb9f3a"
             ],
             [
              0.8888888888888888,
              "#fdca26"
             ],
             [
              1,
              "#f0f921"
             ]
            ],
            "type": "heatmap"
           }
          ],
          "heatmapgl": [
           {
            "colorbar": {
             "outlinewidth": 0,
             "ticks": ""
            },
            "colorscale": [
             [
              0,
              "#0d0887"
             ],
             [
              0.1111111111111111,
              "#46039f"
             ],
             [
              0.2222222222222222,
              "#7201a8"
             ],
             [
              0.3333333333333333,
              "#9c179e"
             ],
             [
              0.4444444444444444,
              "#bd3786"
             ],
             [
              0.5555555555555556,
              "#d8576b"
             ],
             [
              0.6666666666666666,
              "#ed7953"
             ],
             [
              0.7777777777777778,
              "#fb9f3a"
             ],
             [
              0.8888888888888888,
              "#fdca26"
             ],
             [
              1,
              "#f0f921"
             ]
            ],
            "type": "heatmapgl"
           }
          ],
          "histogram": [
           {
            "marker": {
             "pattern": {
              "fillmode": "overlay",
              "size": 10,
              "solidity": 0.2
             }
            },
            "type": "histogram"
           }
          ],
          "histogram2d": [
           {
            "colorbar": {
             "outlinewidth": 0,
             "ticks": ""
            },
            "colorscale": [
             [
              0,
              "#0d0887"
             ],
             [
              0.1111111111111111,
              "#46039f"
             ],
             [
              0.2222222222222222,
              "#7201a8"
             ],
             [
              0.3333333333333333,
              "#9c179e"
             ],
             [
              0.4444444444444444,
              "#bd3786"
             ],
             [
              0.5555555555555556,
              "#d8576b"
             ],
             [
              0.6666666666666666,
              "#ed7953"
             ],
             [
              0.7777777777777778,
              "#fb9f3a"
             ],
             [
              0.8888888888888888,
              "#fdca26"
             ],
             [
              1,
              "#f0f921"
             ]
            ],
            "type": "histogram2d"
           }
          ],
          "histogram2dcontour": [
           {
            "colorbar": {
             "outlinewidth": 0,
             "ticks": ""
            },
            "colorscale": [
             [
              0,
              "#0d0887"
             ],
             [
              0.1111111111111111,
              "#46039f"
             ],
             [
              0.2222222222222222,
              "#7201a8"
             ],
             [
              0.3333333333333333,
              "#9c179e"
             ],
             [
              0.4444444444444444,
              "#bd3786"
             ],
             [
              0.5555555555555556,
              "#d8576b"
             ],
             [
              0.6666666666666666,
              "#ed7953"
             ],
             [
              0.7777777777777778,
              "#fb9f3a"
             ],
             [
              0.8888888888888888,
              "#fdca26"
             ],
             [
              1,
              "#f0f921"
             ]
            ],
            "type": "histogram2dcontour"
           }
          ],
          "mesh3d": [
           {
            "colorbar": {
             "outlinewidth": 0,
             "ticks": ""
            },
            "type": "mesh3d"
           }
          ],
          "parcoords": [
           {
            "line": {
             "colorbar": {
              "outlinewidth": 0,
              "ticks": ""
             }
            },
            "type": "parcoords"
           }
          ],
          "pie": [
           {
            "automargin": true,
            "type": "pie"
           }
          ],
          "scatter": [
           {
            "fillpattern": {
             "fillmode": "overlay",
             "size": 10,
             "solidity": 0.2
            },
            "type": "scatter"
           }
          ],
          "scatter3d": [
           {
            "line": {
             "colorbar": {
              "outlinewidth": 0,
              "ticks": ""
             }
            },
            "marker": {
             "colorbar": {
              "outlinewidth": 0,
              "ticks": ""
             }
            },
            "type": "scatter3d"
           }
          ],
          "scattercarpet": [
           {
            "marker": {
             "colorbar": {
              "outlinewidth": 0,
              "ticks": ""
             }
            },
            "type": "scattercarpet"
           }
          ],
          "scattergeo": [
           {
            "marker": {
             "colorbar": {
              "outlinewidth": 0,
              "ticks": ""
             }
            },
            "type": "scattergeo"
           }
          ],
          "scattergl": [
           {
            "marker": {
             "colorbar": {
              "outlinewidth": 0,
              "ticks": ""
             }
            },
            "type": "scattergl"
           }
          ],
          "scattermapbox": [
           {
            "marker": {
             "colorbar": {
              "outlinewidth": 0,
              "ticks": ""
             }
            },
            "type": "scattermapbox"
           }
          ],
          "scatterpolar": [
           {
            "marker": {
             "colorbar": {
              "outlinewidth": 0,
              "ticks": ""
             }
            },
            "type": "scatterpolar"
           }
          ],
          "scatterpolargl": [
           {
            "marker": {
             "colorbar": {
              "outlinewidth": 0,
              "ticks": ""
             }
            },
            "type": "scatterpolargl"
           }
          ],
          "scatterternary": [
           {
            "marker": {
             "colorbar": {
              "outlinewidth": 0,
              "ticks": ""
             }
            },
            "type": "scatterternary"
           }
          ],
          "surface": [
           {
            "colorbar": {
             "outlinewidth": 0,
             "ticks": ""
            },
            "colorscale": [
             [
              0,
              "#0d0887"
             ],
             [
              0.1111111111111111,
              "#46039f"
             ],
             [
              0.2222222222222222,
              "#7201a8"
             ],
             [
              0.3333333333333333,
              "#9c179e"
             ],
             [
              0.4444444444444444,
              "#bd3786"
             ],
             [
              0.5555555555555556,
              "#d8576b"
             ],
             [
              0.6666666666666666,
              "#ed7953"
             ],
             [
              0.7777777777777778,
              "#fb9f3a"
             ],
             [
              0.8888888888888888,
              "#fdca26"
             ],
             [
              1,
              "#f0f921"
             ]
            ],
            "type": "surface"
           }
          ],
          "table": [
           {
            "cells": {
             "fill": {
              "color": "#EBF0F8"
             },
             "line": {
              "color": "white"
             }
            },
            "header": {
             "fill": {
              "color": "#C8D4E3"
             },
             "line": {
              "color": "white"
             }
            },
            "type": "table"
           }
          ]
         },
         "layout": {
          "annotationdefaults": {
           "arrowcolor": "#2a3f5f",
           "arrowhead": 0,
           "arrowwidth": 1
          },
          "autotypenumbers": "strict",
          "coloraxis": {
           "colorbar": {
            "outlinewidth": 0,
            "ticks": ""
           }
          },
          "colorscale": {
           "diverging": [
            [
             0,
             "#8e0152"
            ],
            [
             0.1,
             "#c51b7d"
            ],
            [
             0.2,
             "#de77ae"
            ],
            [
             0.3,
             "#f1b6da"
            ],
            [
             0.4,
             "#fde0ef"
            ],
            [
             0.5,
             "#f7f7f7"
            ],
            [
             0.6,
             "#e6f5d0"
            ],
            [
             0.7,
             "#b8e186"
            ],
            [
             0.8,
             "#7fbc41"
            ],
            [
             0.9,
             "#4d9221"
            ],
            [
             1,
             "#276419"
            ]
           ],
           "sequential": [
            [
             0,
             "#0d0887"
            ],
            [
             0.1111111111111111,
             "#46039f"
            ],
            [
             0.2222222222222222,
             "#7201a8"
            ],
            [
             0.3333333333333333,
             "#9c179e"
            ],
            [
             0.4444444444444444,
             "#bd3786"
            ],
            [
             0.5555555555555556,
             "#d8576b"
            ],
            [
             0.6666666666666666,
             "#ed7953"
            ],
            [
             0.7777777777777778,
             "#fb9f3a"
            ],
            [
             0.8888888888888888,
             "#fdca26"
            ],
            [
             1,
             "#f0f921"
            ]
           ],
           "sequentialminus": [
            [
             0,
             "#0d0887"
            ],
            [
             0.1111111111111111,
             "#46039f"
            ],
            [
             0.2222222222222222,
             "#7201a8"
            ],
            [
             0.3333333333333333,
             "#9c179e"
            ],
            [
             0.4444444444444444,
             "#bd3786"
            ],
            [
             0.5555555555555556,
             "#d8576b"
            ],
            [
             0.6666666666666666,
             "#ed7953"
            ],
            [
             0.7777777777777778,
             "#fb9f3a"
            ],
            [
             0.8888888888888888,
             "#fdca26"
            ],
            [
             1,
             "#f0f921"
            ]
           ]
          },
          "colorway": [
           "#636efa",
           "#EF553B",
           "#00cc96",
           "#ab63fa",
           "#FFA15A",
           "#19d3f3",
           "#FF6692",
           "#B6E880",
           "#FF97FF",
           "#FECB52"
          ],
          "font": {
           "color": "#2a3f5f"
          },
          "geo": {
           "bgcolor": "white",
           "lakecolor": "white",
           "landcolor": "#E5ECF6",
           "showlakes": true,
           "showland": true,
           "subunitcolor": "white"
          },
          "hoverlabel": {
           "align": "left"
          },
          "hovermode": "closest",
          "mapbox": {
           "style": "light"
          },
          "paper_bgcolor": "white",
          "plot_bgcolor": "#E5ECF6",
          "polar": {
           "angularaxis": {
            "gridcolor": "white",
            "linecolor": "white",
            "ticks": ""
           },
           "bgcolor": "#E5ECF6",
           "radialaxis": {
            "gridcolor": "white",
            "linecolor": "white",
            "ticks": ""
           }
          },
          "scene": {
           "xaxis": {
            "backgroundcolor": "#E5ECF6",
            "gridcolor": "white",
            "gridwidth": 2,
            "linecolor": "white",
            "showbackground": true,
            "ticks": "",
            "zerolinecolor": "white"
           },
           "yaxis": {
            "backgroundcolor": "#E5ECF6",
            "gridcolor": "white",
            "gridwidth": 2,
            "linecolor": "white",
            "showbackground": true,
            "ticks": "",
            "zerolinecolor": "white"
           },
           "zaxis": {
            "backgroundcolor": "#E5ECF6",
            "gridcolor": "white",
            "gridwidth": 2,
            "linecolor": "white",
            "showbackground": true,
            "ticks": "",
            "zerolinecolor": "white"
           }
          },
          "shapedefaults": {
           "line": {
            "color": "#2a3f5f"
           }
          },
          "ternary": {
           "aaxis": {
            "gridcolor": "white",
            "linecolor": "white",
            "ticks": ""
           },
           "baxis": {
            "gridcolor": "white",
            "linecolor": "white",
            "ticks": ""
           },
           "bgcolor": "#E5ECF6",
           "caxis": {
            "gridcolor": "white",
            "linecolor": "white",
            "ticks": ""
           }
          },
          "title": {
           "x": 0.05
          },
          "xaxis": {
           "automargin": true,
           "gridcolor": "white",
           "linecolor": "white",
           "ticks": "",
           "title": {
            "standoff": 15
           },
           "zerolinecolor": "white",
           "zerolinewidth": 2
          },
          "yaxis": {
           "automargin": true,
           "gridcolor": "white",
           "linecolor": "white",
           "ticks": "",
           "title": {
            "standoff": 15
           },
           "zerolinecolor": "white",
           "zerolinewidth": 2
          }
         }
        },
        "title": {
         "text": "Feature Contribution"
        },
        "uniformtext": {
         "minsize": 14,
         "mode": "show"
        },
        "width": 1000,
        "xaxis": {
         "anchor": "y",
         "domain": [
          0,
          1
         ],
         "title": {
          "text": "timestep"
         }
        },
        "yaxis": {
         "anchor": "x",
         "domain": [
          0,
          1
         ],
         "title": {
          "text": "Feature Contribution in key timesteps"
         }
        }
       }
      }
     },
     "metadata": {},
     "output_type": "display_data"
    },
    {
     "name": "stdout",
     "output_type": "stream",
     "text": [
      "process flowchart\n",
      "st6=>start: start none\n",
      "op7=>operation: none_none\n",
      "op8=>operation: none_none\n",
      "op9=>operation: Request For Payment APPROVED by ADMINISTRATION_ADMINISTRATION\n",
      "op10=>operation: Request For Payment SUBMITTED by EMPLOYEE_EMPLOYEE\n",
      "\n",
      "st6->op7\n",
      "op7->op8\n",
      "op8->op9\n",
      "op9->op10\n",
      "\n",
      "\n",
      "\n"
     ]
    }
   ],
   "source": [
    "explain_local(output_with_attention,x_test,y_test,index_ac,index_rl,index_ne,3,53)"
   ]
  }
 ],
 "metadata": {
  "kernelspec": {
   "display_name": ".venv",
   "language": "python",
   "name": "python3"
  },
  "language_info": {
   "codemirror_mode": {
    "name": "ipython",
    "version": 3
   },
   "file_extension": ".py",
   "mimetype": "text/x-python",
   "name": "python",
   "nbconvert_exporter": "python",
   "pygments_lexer": "ipython3",
   "version": "3.9.13"
  }
 },
 "nbformat": 4,
 "nbformat_minor": 2
}
